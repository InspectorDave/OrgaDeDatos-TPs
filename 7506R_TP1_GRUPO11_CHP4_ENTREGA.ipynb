{
 "cells": [
  {
   "attachments": {},
   "cell_type": "markdown",
   "metadata": {},
   "source": [
    "<p align=\"center\">\n",
    "  <img src=\"https://i.ytimg.com/vi/Wm8ftqDZUVk/maxresdefault.jpg\" alt=\"FIUBA\" width=\"33%\"/>\n",
    "  </p>\n",
    "  \n",
    "# **Trabajo Práctico 1: Reservas de Hotel**\n",
    "### **Checkpoint**: 4\n",
    "### **Grupo**: 11 - Los Pandas\n",
    "### **Cuatrimestre**: 2ºC 2023\n",
    "### **Corrector**: Mateo\n",
    "### **Integrantes**:\n",
    "### 103456 - Labollita, Francisco\n",
    "### 102312 - Mundani Vegega, Ezequiel\n",
    "###  97263 - Otegui, Matías Iñaki"
   ]
  },
  {
   "attachments": {},
   "cell_type": "markdown",
   "metadata": {},
   "source": [
    "# Redes neuronales\n",
    "\n",
    "### Carga inicial de dependencias y datos"
   ]
  },
  {
   "cell_type": "code",
   "execution_count": 1,
   "metadata": {},
   "outputs": [],
   "source": [
    "import numpy as np\n",
    "from scipy import stats\n",
    "import pandas as pd\n",
    "from IPython.display import display\n",
    "import matplotlib.pyplot as plt\n",
    "import seaborn as sns\n",
    "import datetime\n",
    "import calendar\n",
    "#import dtreeviz\n",
    "import warnings\n",
    "\n",
    "#modelos y métricas\n",
    "from sklearn import tree\n",
    "from sklearn.model_selection import train_test_split\n",
    "from sklearn.metrics import precision_score, recall_score, accuracy_score,f1_score#, precision_recall_curve, roc_curve,\n",
    "from sklearn.metrics import confusion_matrix, classification_report\n",
    "\n",
    "#preprocesamiento\n",
    "from sklearn.preprocessing import StandardScaler, MinMaxScaler\n",
    "\n",
    "##KFOLD CV Random Search para buscar el mejor arbol (los mejores atributos, hiperparametros,etc)\n",
    "from sklearn.model_selection import StratifiedKFold, KFold,RandomizedSearchCV\n",
    "from sklearn.tree import DecisionTreeClassifier\n",
    "from sklearn.metrics import make_scorer, f1_score\n",
    "from sklearn.model_selection import GridSearchCV\n",
    "from sklearn.svm import SVC\n",
    "\n",
    "#Import Keras and Tensor\n",
    "import tensorflow as tf\n",
    "from tensorflow import keras\n",
    "from scikeras.wrappers import KerasClassifier\n",
    "from tensorflow.keras.regularizers import l2\n",
    "\n",
    "#Random Seed\n",
    "np.random.seed(2)\n",
    "tf.random.set_seed(2)\n",
    "\n",
    "warnings.filterwarnings('ignore', 'is_categorical_dtype is deprecated')\n",
    "warnings.filterwarnings(\"ignore\", \"use_inf_as_na\")"
   ]
  },
  {
   "attachments": {},
   "cell_type": "markdown",
   "metadata": {},
   "source": [
    "## Limpieza del dataset"
   ]
  },
  {
   "cell_type": "code",
   "execution_count": 2,
   "metadata": {},
   "outputs": [],
   "source": [
    "hotels_df = pd.read_csv('hotels_train.csv')\n",
    "hotels_df_backup = hotels_df.copy()\n",
    "\n",
    "#Eliminación de columnas irrelevantes\n",
    "hotels_df_mod = hotels_df.drop(['arrival_date_day_of_month', 'stays_in_weekend_nights',\n",
    "                                'stays_in_week_nights', 'children', 'company', 'adr', 'id'], axis=1)\n",
    "\n",
    "#Eliminación de filas con valores nulos\n",
    "hotels_df_mod = hotels_df_mod.dropna(subset=['country', 'distribution_channel', 'market_segment'])\n",
    "\n",
    "#Transformación de variables numéricas a booleanas (>0 = True, 0 = False)\n",
    "hotels_df_mod['required_car_parking_spaces'] = hotels_df_mod['required_car_parking_spaces'].apply(lambda x: True if x >= 1 else False)\n",
    "hotels_df_mod['required_car_parking_spaces'] = hotels_df_mod['required_car_parking_spaces'].astype(bool)\n",
    "\n",
    "hotels_df_mod['days_in_waiting_list'] = hotels_df_mod['days_in_waiting_list'].apply(lambda x: True if x >= 1 else False)\n",
    "hotels_df_mod['days_in_waiting_list'] = hotels_df_mod['days_in_waiting_list'].astype(bool)\n",
    "\n",
    "hotels_df_mod['babies'] = hotels_df_mod['babies'].apply(lambda x: True if x >= 1 else False)\n",
    "hotels_df_mod['babies'] = hotels_df_mod['babies'].astype(bool)\n",
    "\n",
    "hotels_df_mod['previous_cancellations'] = hotels_df_mod['previous_cancellations'].apply(lambda x: True if x >= 1 else False)\n",
    "hotels_df_mod['previous_cancellations'] = hotels_df_mod['previous_cancellations'].astype(bool)\n",
    "\n",
    "hotels_df_mod['total_of_special_requests'] = hotels_df_mod['total_of_special_requests'].apply(lambda x: True if x >= 1 else False)\n",
    "hotels_df_mod['total_of_special_requests'] = hotels_df_mod['total_of_special_requests'].astype(bool)\n",
    "\n",
    "hotels_df_mod['previous_bookings_not_canceled'] = hotels_df_mod['previous_bookings_not_canceled'].apply(lambda x: True if x >= 1 else False)\n",
    "hotels_df_mod['previous_bookings_not_canceled'] = hotels_df_mod['previous_bookings_not_canceled'].astype(bool)\n",
    "\n",
    "hotels_df_mod['booking_changes'] = hotels_df_mod['booking_changes'].apply(lambda x: True if x >= 1 else False)\n",
    "hotels_df_mod['booking_changes'] = hotels_df_mod['booking_changes'].astype(bool)\n",
    "\n",
    "#Eliminación de filas con outliers\n",
    "hotels_df_mod = hotels_df_mod.drop(hotels_df_mod[hotels_df_mod['adults'] > 4].index)\n",
    "\n",
    "#Agent sin definir es un valor válido, por lo que se reemplaza por Undefined\n",
    "hotels_df_mod['agent'] = hotels_df_mod['agent'].astype(str)\n",
    "hotels_df_mod['agent'] = hotels_df_mod['agent'].replace('nan', 'Undefined')\n",
    "\n",
    "#Arrival_date_year se pasa a string\n",
    "hotels_df_mod['arrival_date_year'] = hotels_df_mod['arrival_date_year'].astype(str)\n",
    "\n",
    "#Se crea la columna que dice si se asignó la habitación pedida\n",
    "hotels_df_mod = hotels_df_mod.rename(columns={'reserved_room_type': 'room_type_match'})\n",
    "\n",
    "hotels_df_mod.loc[hotels_df_mod['room_type_match'] == hotels_df_mod['assigned_room_type'], 'room_type_match'] = True\n",
    "hotels_df_mod.loc[hotels_df_mod['room_type_match'] != hotels_df_mod['assigned_room_type'], 'room_type_match'] = False\n",
    "hotels_df_mod['room_type_match'] = hotels_df_mod['room_type_match'].astype(bool)\n",
    "\n",
    "#Se normalizan los valores de las columnas numéricas cuantitativas\n",
    "scaler = MinMaxScaler(feature_range=(0,1))\n",
    "for col in hotels_df_mod.select_dtypes(include=[np.number, \"int64\", \"float64\"]).columns:\n",
    "    hotels_df_mod[col] = scaler.fit_transform(hotels_df_mod[[col]])\n",
    "\n",
    "#One-hot encoding para las columnas categóricas\n",
    "hotels_df_mod = pd.get_dummies(hotels_df_mod, columns=[\"hotel\",\n",
    "    \"arrival_date_month\", \"meal\", \"country\", \"market_segment\", \"distribution_channel\", \"assigned_room_type\",\n",
    "    \"deposit_type\", \"customer_type\", \"agent\", 'arrival_date_year'], drop_first=True)\n",
    "\n",
    "#Se transforman las columnas booleanas en float\n",
    "bool_columns = hotels_df_mod.select_dtypes(include=['bool'])\n",
    "for column in bool_columns.columns:\n",
    "    hotels_df_mod[column] = hotels_df_mod[column].astype('float64')\n",
    "\n",
    "hotels_df_mod = hotels_df_mod.reindex(sorted(hotels_df_mod.columns), axis=1)"
   ]
  },
  {
   "attachments": {},
   "cell_type": "markdown",
   "metadata": {},
   "source": [
    "## Entrenamiento inicial del modelo"
   ]
  },
  {
   "cell_type": "code",
   "execution_count": 3,
   "metadata": {},
   "outputs": [],
   "source": [
    "df_x = hotels_df_mod.drop(['is_canceled'], axis=1)\n",
    "df_y = hotels_df_mod['is_canceled'].copy()\n",
    "\n",
    "x_train, x_test, y_train, y_test = train_test_split(df_x, df_y, train_size= 0.7, test_size=0.30, random_state=2)"
   ]
  },
  {
   "cell_type": "code",
   "execution_count": 4,
   "metadata": {},
   "outputs": [
    {
     "name": "stdout",
     "output_type": "stream",
     "text": [
      "Model: \"sequential\"\n",
      "_________________________________________________________________\n",
      " Layer (type)                Output Shape              Param #   \n",
      "=================================================================\n",
      " dense (Dense)               (None, 8)                 4016      \n",
      "                                                                 \n",
      " dense_1 (Dense)             (None, 8)                 72        \n",
      "                                                                 \n",
      " dense_2 (Dense)             (None, 1)                 9         \n",
      "                                                                 \n",
      "=================================================================\n",
      "Total params: 4097 (16.00 KB)\n",
      "Trainable params: 4097 (16.00 KB)\n",
      "Non-trainable params: 0 (0.00 Byte)\n",
      "_________________________________________________________________\n"
     ]
    }
   ],
   "source": [
    "# Create a simple feedforward neural network\n",
    "model = keras.Sequential([\n",
    "    keras.layers.Dense(8, activation='relu', input_shape=(df_x.columns.size,)),  # Input layer\n",
    "    keras.layers.Dense(8, activation='relu'), \n",
    "    keras.layers.Dense(1, activation='sigmoid')  # Output layer \n",
    "])\n",
    "model.summary()"
   ]
  },
  {
   "cell_type": "code",
   "execution_count": 5,
   "metadata": {},
   "outputs": [
    {
     "name": "stdout",
     "output_type": "stream",
     "text": [
      "Test accuracy: 0.8441502451896667\n"
     ]
    }
   ],
   "source": [
    "model.compile(optimizer='nadam', loss='binary_crossentropy', metrics=['accuracy'])\n",
    "\n",
    "cant_epochs=50\n",
    "\n",
    "history = model.fit(x_train, y_train, epochs=cant_epochs, batch_size=32, validation_split=0.3, verbose = False, use_multiprocessing=True)\n",
    "\n",
    "\n",
    "test_loss, test_accuracy = model.evaluate(x_test, y_test, verbose=False)\n",
    "print(f'Test accuracy: {test_accuracy}')"
   ]
  },
  {
   "attachments": {},
   "cell_type": "markdown",
   "metadata": {},
   "source": [
    "## Optimización mediante Grid Search de diferentes arquitecturas\n",
    "\n",
    "Se armarán varias redes neuronales, una sin capa oculta, otra con una capa oculta y otra con dos capas ocultas. Se optimizarán los hiperparámetros de cada una y luego se hará una búsqueda de hiperparámetros más exhaustiva cerca del mejor modelo obtenido anteriormente.\n",
    "\n",
    "Los hiperparámetros a optimizar son:\n",
    "- Cantidad de neuronas\n",
    "- Épocas\n",
    "- Función de activación\n",
    "- Tasa de aprendizaje\n",
    "- Tamaño de lote\n",
    "\n",
    "Cabe aclarar que no se buscan diferentes optimizaciones dependiendo del optimizador dado a que no tendría sentido siendo que se supone que los más avanzados llegan todos al mismo resultado, solo que con distinta velocidad. No tiene sentido ver cuál llega más rápido, así que se usa uno directamente. Utilizaremos Nadam.\n",
    "\n",
    "Para la última capa de la red neuronal habrá una única neurona con función de activación sigmoide, ya que se busca una clasificación binaria. También cabe aclarar que entre las distintas capas hay una conexión \"densa\"."
   ]
  },
  {
   "attachments": {},
   "cell_type": "markdown",
   "metadata": {},
   "source": [
    "### Red sin capa oculta"
   ]
  },
  {
   "cell_type": "code",
   "execution_count": 6,
   "metadata": {},
   "outputs": [],
   "source": [
    "def create_model(neurons=8, activation_function='relu', l_rate=0.001):\n",
    "\n",
    "    # Create a simple feedforward neural network\n",
    "    model = keras.Sequential([\n",
    "    keras.layers.Dense(units=neurons, activation=activation_function, input_shape=(df_x.columns.size,)),  # Input layer\n",
    "    keras.layers.Dense(1, activation='sigmoid')  # Output layer \n",
    "    ])\n",
    "\n",
    "    model.compile(\n",
    "      optimizer=keras.optimizers.Nadam(),\n",
    "      loss='binary_crossentropy',\n",
    "      metrics=['accuracy'],\n",
    "    )\n",
    "\n",
    "    return model"
   ]
  },
  {
   "cell_type": "code",
   "execution_count": 7,
   "metadata": {},
   "outputs": [
    {
     "name": "stdout",
     "output_type": "stream",
     "text": [
      "Parámetros: {'activation_function': 'relu', 'batch_size': 100, 'epochs': 50, 'l_rate': 0.01, 'neurons': 32} \n",
      "F1 score:  0.848\n"
     ]
    }
   ],
   "source": [
    "modelo_cv0 = KerasClassifier(model=create_model, neurons=8, activation_function='relu',\n",
    "    l_rate=0.001, verbose = False, random_state=2)\n",
    "\n",
    "params_grid = {\n",
    "    'epochs': [50, 100],\n",
    "    'batch_size': [25, 50, 100],\n",
    "    'neurons': [8, 16, 32],\n",
    "    'activation_function': ['relu', 'sigmoid'],\n",
    "    'l_rate': [0.01, 0.001]\n",
    "}\n",
    "\n",
    "scorer_fn = make_scorer(f1_score)\n",
    "kfoldcv = StratifiedKFold(n_splits=2)\n",
    "\n",
    "gridcv = GridSearchCV(estimator=modelo_cv0,\n",
    "                      param_grid = params_grid,\n",
    "                      scoring=scorer_fn,\n",
    "                      cv=kfoldcv\n",
    "                      )\n",
    "\n",
    "model = gridcv.fit(x_train,y_train)\n",
    "\n",
    "y_pred = model.predict(x_test)\n",
    "score = f1_score(y_test, y_pred)\n",
    "print(\"Parámetros:\", gridcv.best_params_, \"\\nF1 score: \", round(score, 3))"
   ]
  },
  {
   "attachments": {},
   "cell_type": "markdown",
   "metadata": {},
   "source": [
    "### Red con una capa oculta"
   ]
  },
  {
   "cell_type": "code",
   "execution_count": 13,
   "metadata": {},
   "outputs": [],
   "source": [
    "def create_model(neurons=8, activation_function='relu', l_rate=0.001):\n",
    "\n",
    "    # Create a simple feedforward neural network\n",
    "    model = keras.Sequential([\n",
    "    keras.layers.Dense(units=neurons, activation=activation_function, input_shape=(df_x.columns.size,)),  # Input layer\n",
    "    keras.layers.Dense(units=neurons, activation=activation_function), # Hidden layer\n",
    "    keras.layers.Dense(1, activation='sigmoid')  # Output layer \n",
    "    ])\n",
    "\n",
    "    model.compile(\n",
    "      optimizer=keras.optimizers.Nadam(learning_rate=l_rate),\n",
    "      loss='binary_crossentropy',\n",
    "      metrics=['accuracy'],\n",
    "    )\n",
    "\n",
    "    return model"
   ]
  },
  {
   "cell_type": "code",
   "execution_count": 14,
   "metadata": {},
   "outputs": [
    {
     "name": "stdout",
     "output_type": "stream",
     "text": [
      "Parámetros: {'activation_function': 'relu', 'batch_size': 50, 'epochs': 50, 'l_rate': 0.01, 'neurons': 16} \n",
      "F1 score:  0.852\n"
     ]
    }
   ],
   "source": [
    "modelo_cv1 = KerasClassifier(model=create_model, neurons=8, activation_function='relu',\n",
    "    l_rate=0.001, optimizer='adam', verbose = False, random_state=2)\n",
    "\n",
    "params_grid = {\n",
    "    'epochs': [50, 100],\n",
    "    'batch_size': [25, 50, 100],\n",
    "    'neurons': [8, 16, 32],\n",
    "    'activation_function': ['relu', 'sigmoid'],\n",
    "    'l_rate': [0.01, 0.001]\n",
    "}\n",
    "\n",
    "scorer_fn = make_scorer(f1_score)\n",
    "kfoldcv = StratifiedKFold(n_splits=2)\n",
    "\n",
    "gridcv = GridSearchCV(estimator=modelo_cv1,\n",
    "                      param_grid = params_grid,\n",
    "                      scoring=scorer_fn,\n",
    "                      cv=kfoldcv\n",
    "                      )\n",
    "\n",
    "model = gridcv.fit(x_train,y_train)\n",
    "\n",
    "y_pred = model.predict(x_test)\n",
    "score = f1_score(y_test, y_pred)\n",
    "print(\"Parámetros:\", gridcv.best_params_, \"\\nF1 score: \", round(score, 3))"
   ]
  },
  {
   "attachments": {},
   "cell_type": "markdown",
   "metadata": {},
   "source": [
    "### Red con dos capas ocultas"
   ]
  },
  {
   "cell_type": "code",
   "execution_count": 15,
   "metadata": {},
   "outputs": [],
   "source": [
    "def create_model(neurons=8, activation_function='relu', l_rate=0.001):\n",
    "\n",
    "    # Create a simple feedforward neural network\n",
    "    model = keras.Sequential([\n",
    "    keras.layers.Dense(units=neurons, activation=activation_function, input_shape=(df_x.columns.size,)),  # Input layer\n",
    "    keras.layers.Dense(units=neurons, activation=activation_function), #Hidden layer\n",
    "    keras.layers.Dense(units=neurons, activation=activation_function), #Hidden layer\n",
    "    keras.layers.Dense(1, activation='sigmoid')  # Output layer \n",
    "    ])\n",
    "\n",
    "    model.compile(\n",
    "      optimizer=keras.optimizers.Nadam(learning_rate=l_rate),\n",
    "      loss='binary_crossentropy',\n",
    "      metrics=['accuracy'],\n",
    "    )\n",
    "\n",
    "    return model"
   ]
  },
  {
   "cell_type": "code",
   "execution_count": 16,
   "metadata": {},
   "outputs": [
    {
     "name": "stdout",
     "output_type": "stream",
     "text": [
      "Parámetros: {'activation_function': 'sigmoid', 'batch_size': 25, 'epochs': 50, 'l_rate': 0.001, 'neurons': 32} \n",
      "F1 score:  0.85\n"
     ]
    }
   ],
   "source": [
    "modelo_cv2 = KerasClassifier(model=create_model, neurons=8, activation_function='relu',\n",
    "    l_rate=0.001, optimizer='nadam', verbose = False, random_state=2)\n",
    "\n",
    "params_grid = {\n",
    "    'epochs': [50, 100],\n",
    "    'batch_size': [25, 50, 100],\n",
    "    'neurons': [8, 16, 32],\n",
    "    'activation_function': ['relu', 'sigmoid'],\n",
    "    'l_rate': [0.01, 0.001]\n",
    "}\n",
    "\n",
    "scorer_fn = make_scorer(f1_score)\n",
    "kfoldcv = StratifiedKFold(n_splits=2)\n",
    "\n",
    "gridcv = GridSearchCV(estimator=modelo_cv2,\n",
    "                      param_grid = params_grid,\n",
    "                      scoring=scorer_fn,\n",
    "                      cv=kfoldcv\n",
    "                      )\n",
    "\n",
    "model = gridcv.fit(x_train,y_train)\n",
    "\n",
    "y_pred = model.predict(x_test)\n",
    "score = f1_score(y_test, y_pred)\n",
    "print(\"Parámetros:\", gridcv.best_params_, \"\\nF1 score: \", round(score, 3))"
   ]
  },
  {
   "attachments": {},
   "cell_type": "markdown",
   "metadata": {},
   "source": [
    "### Optimización más exhaustiva del mejor modelo obtenido hasta el momento\n",
    "\n",
    "Para esta optimización más exhaustiva se utilizará una sola capa oculta ya que fue la que tuvo mejor rendimiento. Se hará únicamente con la función de activación ReLu y luego se hallará la mejor función de activación para la cantidad de épocas, tamaño de lote, cantidad de neuronas y tasa de aprendizaje encontrados. Es cierto que sería mejor hacer la optimización con todas las funciones de activación directamente, pero se optó por hacerlo con una sola para no tener que hacer tantas iteraciones (89 iteraciones en vez de 567)."
   ]
  },
  {
   "cell_type": "code",
   "execution_count": 20,
   "metadata": {},
   "outputs": [
    {
     "name": "stdout",
     "output_type": "stream",
     "text": [
      "Parámetros: {'activation_function': 'relu', 'batch_size': 32, 'epochs': 25, 'l_rate': 0.0031622776601683794, 'neurons': 24} \n",
      "F1 score:  0.855\n"
     ]
    }
   ],
   "source": [
    "params_grid = {\n",
    "    'epochs': [25, 50, 75],\n",
    "    'batch_size': [32, 50, 75],\n",
    "    'neurons': [12, 16, 24],\n",
    "    'activation_function': ['relu'],\n",
    "    'l_rate': [10**-1.5, 10**-2, 10**-2.5]\n",
    "}\n",
    "\n",
    "scorer_fn = make_scorer(f1_score)\n",
    "kfoldcv = StratifiedKFold(n_splits=3)\n",
    "\n",
    "gridcv = GridSearchCV(estimator=modelo_cv1,\n",
    "                      param_grid = params_grid,\n",
    "                      scoring=scorer_fn,\n",
    "                      cv=kfoldcv\n",
    "                      )\n",
    "\n",
    "model = gridcv.fit(x_train,y_train)\n",
    "\n",
    "y_pred = model.predict(x_test)\n",
    "score = f1_score(y_test, y_pred)\n",
    "print(\"Parámetros:\", gridcv.best_params_, \"\\nF1 score: \", round(score, 3))"
   ]
  },
  {
   "cell_type": "code",
   "execution_count": 22,
   "metadata": {},
   "outputs": [
    {
     "name": "stdout",
     "output_type": "stream",
     "text": [
      "Parámetros: {'activation_function': 'relu', 'batch_size': 32, 'epochs': 25, 'l_rate': 0.0031622776601683794, 'neurons': 24} \n",
      "F1 score:  0.855\n"
     ]
    }
   ],
   "source": [
    "params_grid = {\n",
    "    'epochs': [25],\n",
    "    'batch_size': [32],\n",
    "    'neurons': [24],\n",
    "    'activation_function': ['relu', 'tanh',  'elu', 'selu', 'softplus', 'softsign', 'exponential'],\n",
    "    'l_rate': [10**-2.5]\n",
    "}\n",
    "\n",
    "scorer_fn = make_scorer(f1_score)\n",
    "kfoldcv = StratifiedKFold(n_splits=3)\n",
    "\n",
    "gridcv = GridSearchCV(estimator=modelo_cv1,\n",
    "                      param_grid = params_grid,\n",
    "                      scoring=scorer_fn,\n",
    "                      cv=kfoldcv\n",
    "                      )\n",
    "\n",
    "model = gridcv.fit(x_train,y_train)\n",
    "\n",
    "y_pred = model.predict(x_test)\n",
    "score = f1_score(y_test, y_pred)\n",
    "print(\"Parámetros:\", gridcv.best_params_, \"\\nF1 score: \", round(score, 3))"
   ]
  },
  {
   "attachments": {},
   "cell_type": "markdown",
   "metadata": {},
   "source": [
    "### Métricas de mejor modelo\n",
    "\n",
    "Luego de la optimización de hiperparámetros, se llegó al modelo tiene una capa oculta y los siguientes atributos:\n",
    "\n",
    "- Cantidad de neuronas: 24\n",
    "- Épocas: 25\n",
    "- Función de activation: ReLu\n",
    "- Tasa de aprendizaje: $10^{-2,5}\\simeq 0,00316$\n",
    "- Tamaño de lote: 32"
   ]
  },
  {
   "cell_type": "code",
   "execution_count": 29,
   "metadata": {},
   "outputs": [
    {
     "name": "stdout",
     "output_type": "stream",
     "text": [
      "F1-Score sobre el set de entrenamiento: 0.891\n",
      "F1-Score sobre el set de prueba: 0.855\n",
      "Matriz de confusión de los datos de prueba:\n"
     ]
    },
    {
     "data": {
      "image/png": "[encoded data removed]",
      "text/plain": [
       "<Figure size 640x480 with 2 Axes>"
      ]
     },
     "metadata": {},
     "output_type": "display_data"
    }
   ],
   "source": [
    "y_train_pred = model.predict(x_train)\n",
    "y_test_pred = model.predict(x_test)\n",
    "\n",
    "binary_predictions_test = (y_test_pred > 0.5).astype(int)\n",
    "binary_predictions_train = (y_train_pred > 0.5).astype(int)\n",
    "\n",
    "train_score = f1_score(y_train, binary_predictions_train)\n",
    "test_score = f1_score(y_test, binary_predictions_test)\n",
    "\n",
    "print(\"F1-Score sobre el set de entrenamiento:\", round(train_score, 3))\n",
    "print(\"F1-Score sobre el set de prueba:\", round(test_score, 3))\n",
    "\n",
    "print(\"Matriz de confusión de los datos de prueba:\")\n",
    "cm = confusion_matrix(y_test, binary_predictions_test)\n",
    "sns.heatmap(cm, cmap='Blues',annot=True,fmt='g')\n",
    "plt.xlabel('Predicted')\n",
    "plt.ylabel('True');"
   ]
  },
  {
   "cell_type": "code",
   "execution_count": 30,
   "metadata": {},
   "outputs": [
    {
     "name": "stdout",
     "output_type": "stream",
     "text": [
      "Cálculo de las métricas en el conjunto de entrenamiento\n",
      "Accuracy:  0.887\n",
      "Recall:  0.926\n",
      "Precision:  0.859\n",
      "F1 score:  0.891\n",
      "              precision    recall  f1-score   support\n",
      "\n",
      "         0.0       0.92      0.85      0.88     21559\n",
      "         1.0       0.86      0.93      0.89     21617\n",
      "\n",
      "    accuracy                           0.89     43176\n",
      "   macro avg       0.89      0.89      0.89     43176\n",
      "weighted avg       0.89      0.89      0.89     43176\n",
      "\n"
     ]
    }
   ],
   "source": [
    "accuracy=accuracy_score(y_train, y_train_pred)\n",
    "recall=recall_score(y_train, y_train_pred)\n",
    "f1=f1_score(y_train, y_train_pred)\n",
    "precision=precision_score(y_train, y_train_pred)\n",
    "\n",
    "print(\"Cálculo de las métricas en el conjunto de entrenamiento\")\n",
    "print(\"Accuracy: \", round(accuracy, 3))\n",
    "print(\"Recall: \", round(recall, 3))\n",
    "print(\"Precision: \", round(precision, 3))\n",
    "print(\"F1 score: \", round(f1, 3))\n",
    "\n",
    "print(classification_report(y_train, y_train_pred))"
   ]
  },
  {
   "cell_type": "code",
   "execution_count": 31,
   "metadata": {},
   "outputs": [
    {
     "name": "stdout",
     "output_type": "stream",
     "text": [
      "Cálculo de las métricas en el conjunto de pruebas\n",
      "Accuracy:  0.849\n",
      "Recall:  0.89\n",
      "Precision:  0.823\n",
      "F1 score:  0.855\n",
      "              precision    recall  f1-score   support\n",
      "\n",
      "         0.0       0.88      0.81      0.84      9241\n",
      "         1.0       0.82      0.89      0.86      9264\n",
      "\n",
      "    accuracy                           0.85     18505\n",
      "   macro avg       0.85      0.85      0.85     18505\n",
      "weighted avg       0.85      0.85      0.85     18505\n",
      "\n"
     ]
    }
   ],
   "source": [
    "accuracy=accuracy_score(y_test,y_test_pred)\n",
    "recall=recall_score(y_test,y_test_pred)\n",
    "f1=f1_score(y_test,y_test_pred)\n",
    "precision=precision_score(y_test,y_test_pred)\n",
    "\n",
    "print(\"Cálculo de las métricas en el conjunto de pruebas\")\n",
    "print(\"Accuracy: \", round(accuracy, 3))\n",
    "print(\"Recall: \", round(recall, 3))\n",
    "print(\"Precision: \", round(precision, 3))\n",
    "print(\"F1 score: \", round(f1, 3))\n",
    "\n",
    "print(classification_report(y_test, y_test_pred))"
   ]
  },
  {
   "attachments": {},
   "cell_type": "markdown",
   "metadata": {},
   "source": [
    "## Predicción de hotels_test\n",
    "\n",
    "Se modifica el dataset de test de manera similar al de train, para que el modelo obtenido pueda ser aplicado."
   ]
  },
  {
   "cell_type": "code",
   "execution_count": 32,
   "metadata": {},
   "outputs": [],
   "source": [
    "test_df = pd.read_csv('hotels_test.csv')\n",
    "test_df_mod = test_df.copy()\n",
    "\n",
    "# renombrar columna del dataframe de reserved_room_type a room_type_match\n",
    "test_df_mod = test_df_mod.rename(columns={'reserved_room_type': 'room_type_match'})\n",
    "\n",
    "test_df_mod.loc[test_df_mod['room_type_match'] == test_df_mod['assigned_room_type'], 'room_type_match'] = True\n",
    "test_df_mod.loc[test_df_mod['room_type_match'] != test_df_mod['assigned_room_type'], 'room_type_match'] = False\n",
    "test_df_mod['room_type_match'] = test_df_mod['room_type_match'].astype(bool)\n",
    "\n",
    "test_df_mod['agent'] = test_df_mod['agent'].astype(str)\n",
    "\n",
    "id_backup = test_df_mod[['id']].copy()\n",
    "\n",
    "test_df_mod = test_df_mod.drop(['arrival_date_day_of_month', 'stays_in_weekend_nights',\n",
    "                                'stays_in_week_nights', 'children', 'company', 'adr', 'id'], axis=1)\n",
    "\n",
    "#Arrival_date_year se pasa a string\n",
    "test_df_mod['arrival_date_year'] = test_df_mod['arrival_date_year'].astype(str)\n",
    "\n",
    "#Transformación de variables numéricas a booleanas \n",
    "test_df_mod['required_car_parking_spaces'] = test_df_mod['required_car_parking_spaces'].apply(lambda x: True if x >= 1 else False)\n",
    "test_df_mod['required_car_parking_spaces'] = test_df_mod['required_car_parking_spaces'].astype(bool)\n",
    "\n",
    "test_df_mod['days_in_waiting_list'] = test_df_mod['days_in_waiting_list'].apply(lambda x: True if x >= 1 else False)\n",
    "test_df_mod['days_in_waiting_list'] = test_df_mod['days_in_waiting_list'].astype(bool)\n",
    "\n",
    "test_df_mod['babies'] = test_df_mod['babies'].apply(lambda x: True if x >= 1 else False)\n",
    "test_df_mod['babies'] = test_df_mod['babies'].astype(bool)\n",
    "\n",
    "test_df_mod['previous_cancellations'] = test_df_mod['previous_cancellations'].apply(lambda x: True if x >= 1 else False)\n",
    "test_df_mod['previous_cancellations'] = test_df_mod['previous_cancellations'].astype(bool)\n",
    "\n",
    "test_df_mod['total_of_special_requests'] = test_df_mod['total_of_special_requests'].apply(lambda x: True if x >= 1 else False)\n",
    "test_df_mod['total_of_special_requests'] = test_df_mod['total_of_special_requests'].astype(bool)\n",
    "\n",
    "test_df_mod['previous_bookings_not_canceled'] = test_df_mod['previous_bookings_not_canceled'].apply(lambda x: True if x >= 1 else False)\n",
    "test_df_mod['previous_bookings_not_canceled'] = test_df_mod['previous_bookings_not_canceled'].astype(bool)\n",
    "\n",
    "test_df_mod['booking_changes'] = test_df_mod['booking_changes'].apply(lambda x: True if x >= 1 else False)\n",
    "test_df_mod['booking_changes'] = test_df_mod['booking_changes'].astype(bool)\n",
    "\n",
    "#Se normalizan los valores de las columnas numéricas cuantitativas\n",
    "scaler = MinMaxScaler(feature_range=(0,1))\n",
    "for col in test_df_mod.select_dtypes(include=[np.number, \"int64\", \"float64\"]).columns:\n",
    "    test_df_mod[col] = scaler.fit_transform(test_df_mod[[col]])\n",
    "\n",
    "#One-hot encoding para las columnas categóricas\n",
    "test_df_mod = pd.get_dummies(test_df_mod, columns=[\"hotel\", \"arrival_date_month\", \"meal\", \"country\",\n",
    "    \"market_segment\",\"distribution_channel\", \"assigned_room_type\", \"deposit_type\", \"customer_type\",\n",
    "    \"agent\", \"arrival_date_year\" ], drop_first=True)\n",
    "\n",
    "#Se crean las columnas que están en el df para entrenar pero no en el df a predecir\n",
    "for col in df_x.columns:\n",
    "    if col not in test_df_mod.columns:\n",
    "        test_df_mod[col] = False\n",
    "\n",
    "#Se eliminan las columnas que están en el df para predecir pero no en el df para entrenar\n",
    "for col in test_df_mod.columns:\n",
    "    if col not in df_x.columns:\n",
    "        test_df_mod = test_df_mod.drop(columns=[col])\n",
    "\n",
    "# Convert the 'bool' columns to 'float64'\n",
    "bool_columns = test_df_mod.select_dtypes(include=['bool'])\n",
    "for column in bool_columns.columns:\n",
    "    test_df_mod[column] = test_df_mod[column].astype('float64')\n",
    "\n",
    "test_df_mod = test_df_mod.reindex(sorted(test_df_mod.columns), axis=1)"
   ]
  },
  {
   "cell_type": "code",
   "execution_count": 33,
   "metadata": {},
   "outputs": [],
   "source": [
    "#Se realiza una predicción sobre test utilizando el modelo\n",
    "y_pred = model.predict(test_df_mod)\n",
    "\n",
    "predictions = pd.DataFrame()\n",
    "\n",
    "predictions['id'] = id_backup['id'].values\n",
    "predictions['is_canceled'] = y_pred.astype(int)\n",
    "\n",
    "predictions.to_csv('sample_submission.csv', index=False)"
   ]
  }
 ],
 "metadata": {
  "kernelspec": {
   "display_name": "Python 3",
   "language": "python",
   "name": "python3"
  },
  "language_info": {
   "codemirror_mode": {
    "name": "ipython",
    "version": 3
   },
   "file_extension": ".py",
   "mimetype": "text/x-python",
   "name": "python",
   "nbconvert_exporter": "python",
   "pygments_lexer": "ipython3",
   "version": "3.11.5"
  }
 },
 "nbformat": 4,
 "nbformat_minor": 2
}
