{
 "cells": [
  {
   "attachments": {},
   "cell_type": "markdown",
   "metadata": {},
   "source": [
    "<p align=\"center\">\n",
    "  <img src=\"https://i.ytimg.com/vi/Wm8ftqDZUVk/maxresdefault.jpg\" alt=\"FIUBA\" width=\"25%\"/>\n",
    "  </p>\n",
    "  \n",
    "# **Trabajo Práctico 2: Críticas Cinematográficas**\n",
    "### **Grupo**: 11 - Los Pandas 🐼\n",
    "### **Cuatrimestre**: 2ºC 2023\n",
    "### **Corrector**: Mateo Suster\n",
    "### **Integrantes**:\n",
    "- ### 106861 - Labollita, Francisco\n",
    "- ### 102312 - Mundani Vegega, Ezequiel\n",
    "- ###  97263 - Otegui, Matías Iñaki"
   ]
  },
  {
   "attachments": {},
   "cell_type": "markdown",
   "metadata": {},
   "source": [
    "# Modelo Bayes Naive"
   ]
  },
  {
   "cell_type": "code",
   "execution_count": 8,
   "metadata": {},
   "outputs": [],
   "source": [
    "import pandas as pd\n",
    "import matplotlib.pyplot as plt\n",
    "import seaborn as sns\n",
    "import pickle\n",
    "\n",
    "from sklearn.model_selection import train_test_split\n",
    "from sklearn.feature_extraction.text import CountVectorizer, TfidfVectorizer\n",
    "from sklearn.naive_bayes import MultinomialNB, ComplementNB, BernoulliNB\n",
    "from sklearn.pipeline import make_pipeline\n",
    "from sklearn.metrics import confusion_matrix, accuracy_score, f1_score, precision_score, recall_score, make_scorer\n",
    "from sklearn.model_selection import StratifiedKFold, GridSearchCV\n",
    "from sklearn.pipeline import Pipeline\n"
   ]
  },
  {
   "cell_type": "code",
   "execution_count": 9,
   "metadata": {},
   "outputs": [],
   "source": [
    "reviews = pd.read_csv('train_clean.csv')"
   ]
  },
  {
   "attachments": {},
   "cell_type": "markdown",
   "metadata": {},
   "source": [
    "## Entrenamiento del modelo\n",
    "\n",
    "Primero se ve cuál es el mejor tipo de clasificador para el modelo, se prueba con Bernoulli, Multinomial y Gaussiano. Luego se optimizan sus hiperparámetros."
   ]
  },
  {
   "cell_type": "code",
   "execution_count": 10,
   "metadata": {},
   "outputs": [],
   "source": [
    "reviews_x = reviews['review_es'].copy()\n",
    "reviews_y = reviews['sentimiento'].copy()\n",
    "\n",
    "x_train, x_test, y_train, y_test = train_test_split(reviews_x, reviews_y, test_size=0.30, random_state=0)"
   ]
  },
  {
   "cell_type": "code",
   "execution_count": 18,
   "metadata": {},
   "outputs": [
    {
     "name": "stdout",
     "output_type": "stream",
     "text": [
      "Para CountVectorizer() , MultinomialNB() el accuracy es 0.8369\n",
      "Para CountVectorizer() , ComplementNB() el accuracy es 0.8369\n",
      "Para CountVectorizer() , BernoulliNB() el accuracy es 0.8233\n",
      "Para TfidfVectorizer() , MultinomialNB() el accuracy es 0.8459\n",
      "Para TfidfVectorizer() , ComplementNB() el accuracy es 0.8461\n",
      "Para TfidfVectorizer() , BernoulliNB() el accuracy es 0.8233\n"
     ]
    }
   ],
   "source": [
    "classifiers = [\n",
    "    MultinomialNB(),\n",
    "    ComplementNB(),\n",
    "    BernoulliNB(),\n",
    "]\n",
    "\n",
    "vectorizers = [\n",
    "    CountVectorizer(),\n",
    "    TfidfVectorizer()\n",
    "]\n",
    "\n",
    "for v in vectorizers:\n",
    "    for c in classifiers:\n",
    "        model = make_pipeline(v, c)\n",
    "\n",
    "        model.fit(x_train, y_train)\n",
    "\n",
    "        predicted_categories = model.predict(x_test)\n",
    "\n",
    "        print(\"Para\", v, \",\", c, \"el accuracy es\", round(accuracy_score(y_test, predicted_categories), 4))"
   ]
  },
  {
   "cell_type": "markdown",
   "metadata": {},
   "source": [
    "## Análisis de los mejores modelos entrenados"
   ]
  },
  {
   "cell_type": "markdown",
   "metadata": {},
   "source": [
    "Dado que obtuvimos dos combinaciones con alto accuracy, analizamos los dos."
   ]
  },
  {
   "cell_type": "markdown",
   "metadata": {},
   "source": [
    "### Tfidf Vectorizer y ComplementNB"
   ]
  },
  {
   "cell_type": "code",
   "execution_count": 12,
   "metadata": {},
   "outputs": [],
   "source": [
    "model = make_pipeline(TfidfVectorizer(), ComplementNB())\n",
    "model.fit(x_train, y_train)\n",
    "\n",
    "y_train_pred = model.predict(x_train)\n",
    "y_test_pred = model.predict(x_test)"
   ]
  },
  {
   "cell_type": "code",
   "execution_count": 13,
   "metadata": {},
   "outputs": [
    {
     "name": "stdout",
     "output_type": "stream",
     "text": [
      "Matriz de confusión de los datos de prueba:\n"
     ]
    },
    {
     "data": {
      "image/png": "[encoded data removed]",
      "text/plain": [
       "<Figure size 640x480 with 2 Axes>"
      ]
     },
     "metadata": {},
     "output_type": "display_data"
    }
   ],
   "source": [
    "y_train_bool = (y_train == 'positivo').astype(int)\n",
    "y_train_pred_bool = (y_train_pred == 'positivo').astype(int)\n",
    "y_test_bool = (y_test == 'positivo').astype(int)\n",
    "y_test_pred_bool = (y_test_pred == 'positivo').astype(int)\n",
    "\n",
    "train_score = f1_score(y_train_bool.values, y_train_pred_bool)\n",
    "test_score = f1_score(y_test_bool.values, y_test_pred_bool)\n",
    "\n",
    "print(\"Matriz de confusión de los datos de prueba:\")\n",
    "cm = confusion_matrix(y_test, y_test_pred)\n",
    "sns.heatmap(cm, cmap='Blues',annot=True,fmt='g')\n",
    "plt.xlabel('Predicted')\n",
    "plt.ylabel('True');"
   ]
  },
  {
   "cell_type": "code",
   "execution_count": 14,
   "metadata": {},
   "outputs": [
    {
     "name": "stdout",
     "output_type": "stream",
     "text": [
      "Cálculo de las métricas en el conjunto de entrenamiento\n",
      "Accuracy:  0.909\n",
      "Recall:  0.905\n",
      "Precision:  0.913\n",
      "F1 score:  0.909\n",
      "\n",
      "Cálculo de las métricas en el conjunto de pruebas\n",
      "Accuracy:  0.846\n",
      "Recall:  0.845\n",
      "Precision:  0.845\n",
      "F1 score:  0.845\n"
     ]
    }
   ],
   "source": [
    "accuracy=accuracy_score(y_train_bool, y_train_pred_bool)\n",
    "recall=recall_score(y_train_bool, y_train_pred_bool)\n",
    "f1=f1_score(y_train_bool, y_train_pred_bool)\n",
    "precision=precision_score(y_train_bool, y_train_pred_bool)\n",
    "\n",
    "print(\"Cálculo de las métricas en el conjunto de entrenamiento\")\n",
    "print(\"Accuracy: \", round(accuracy, 3))\n",
    "print(\"Recall: \", round(recall, 3))\n",
    "print(\"Precision: \", round(precision, 3))\n",
    "print(\"F1 score: \", round(f1, 3))\n",
    "\n",
    "accuracy=accuracy_score(y_test_bool,y_test_pred_bool)\n",
    "recall=recall_score(y_test_bool,y_test_pred_bool)\n",
    "f1=f1_score(y_test_bool,y_test_pred_bool)\n",
    "precision=precision_score(y_test_bool,y_test_pred_bool)\n",
    "\n",
    "print(\"\\nCálculo de las métricas en el conjunto de pruebas\")\n",
    "print(\"Accuracy: \", round(accuracy, 3))\n",
    "print(\"Recall: \", round(recall, 3))\n",
    "print(\"Precision: \", round(precision, 3))\n",
    "print(\"F1 score: \", round(f1, 3))"
   ]
  },
  {
   "attachments": {},
   "cell_type": "markdown",
   "metadata": {},
   "source": [
    "### Tfidf Vectorizer y MultinomialNB"
   ]
  },
  {
   "cell_type": "code",
   "execution_count": 15,
   "metadata": {},
   "outputs": [],
   "source": [
    "model = make_pipeline(TfidfVectorizer(), MultinomialNB())\n",
    "model.fit(x_train, y_train)\n",
    "\n",
    "y_train_pred = model.predict(x_train)\n",
    "y_test_pred = model.predict(x_test)\n"
   ]
  },
  {
   "cell_type": "code",
   "execution_count": 16,
   "metadata": {},
   "outputs": [
    {
     "name": "stdout",
     "output_type": "stream",
     "text": [
      "Matriz de confusión de los datos de prueba:\n"
     ]
    },
    {
     "data": {
      "image/png": "[encoded data removed]",
      "text/plain": [
       "<Figure size 640x480 with 2 Axes>"
      ]
     },
     "metadata": {},
     "output_type": "display_data"
    }
   ],
   "source": [
    "y_train_bool = (y_train == 'positivo').astype(int)\n",
    "y_train_pred_bool = (y_train_pred == 'positivo').astype(int)\n",
    "y_test_bool = (y_test == 'positivo').astype(int)\n",
    "y_test_pred_bool = (y_test_pred == 'positivo').astype(int)\n",
    "\n",
    "train_score = f1_score(y_train_bool.values, y_train_pred_bool)\n",
    "test_score = f1_score(y_test_bool.values, y_test_pred_bool)\n",
    "\n",
    "print(\"Matriz de confusión de los datos de prueba:\")\n",
    "cm = confusion_matrix(y_test, y_test_pred)\n",
    "sns.heatmap(cm, cmap='Blues',annot=True,fmt='g')\n",
    "plt.xlabel('Predicted')\n",
    "plt.ylabel('True');"
   ]
  },
  {
   "cell_type": "code",
   "execution_count": 17,
   "metadata": {},
   "outputs": [
    {
     "name": "stdout",
     "output_type": "stream",
     "text": [
      "Cálculo de las métricas en el conjunto de entrenamiento\n",
      "Accuracy:  0.909\n",
      "Recall:  0.906\n",
      "Precision:  0.912\n",
      "F1 score:  0.909\n",
      "\n",
      "Cálculo de las métricas en el conjunto de pruebas\n",
      "Accuracy:  0.846\n",
      "Recall:  0.847\n",
      "Precision:  0.844\n",
      "F1 score:  0.845\n"
     ]
    }
   ],
   "source": [
    "accuracy=accuracy_score(y_train_bool, y_train_pred_bool)\n",
    "recall=recall_score(y_train_bool, y_train_pred_bool)\n",
    "f1=f1_score(y_train_bool, y_train_pred_bool)\n",
    "precision=precision_score(y_train_bool, y_train_pred_bool)\n",
    "\n",
    "print(\"Cálculo de las métricas en el conjunto de entrenamiento\")\n",
    "print(\"Accuracy: \", round(accuracy, 3))\n",
    "print(\"Recall: \", round(recall, 3))\n",
    "print(\"Precision: \", round(precision, 3))\n",
    "print(\"F1 score: \", round(f1, 3))\n",
    "\n",
    "accuracy=accuracy_score(y_test_bool,y_test_pred_bool)\n",
    "recall=recall_score(y_test_bool,y_test_pred_bool)\n",
    "f1=f1_score(y_test_bool,y_test_pred_bool)\n",
    "precision=precision_score(y_test_bool,y_test_pred_bool)\n",
    "\n",
    "print(\"\\nCálculo de las métricas en el conjunto de pruebas\")\n",
    "print(\"Accuracy: \", round(accuracy, 3))\n",
    "print(\"Recall: \", round(recall, 3))\n",
    "print(\"Precision: \", round(precision, 3))\n",
    "print(\"F1 score: \", round(f1, 3))"
   ]
  },
  {
   "attachments": {},
   "cell_type": "markdown",
   "metadata": {},
   "source": [
    "## Grid Search"
   ]
  },
  {
   "cell_type": "code",
   "execution_count": 8,
   "metadata": {},
   "outputs": [
    {
     "name": "stdout",
     "output_type": "stream",
     "text": [
      "Parámetros: {'mnb__alpha': 0.1, 'tfidf__max_features': 100000, 'tfidf__ngram_range': (1, 2)} \n",
      "F1 score:  0.862\n"
     ]
    }
   ],
   "source": [
    "model = Pipeline([(\"tfidf\", TfidfVectorizer()), (\"mnb\", MultinomialNB())])\n",
    "\n",
    "params_grid = {\n",
    "        'tfidf__ngram_range': [(1,1), (1,2), (2,2)],\n",
    "        'tfidf__max_features': [1000, 10000, 100000],\n",
    "        'mnb__alpha': [0.001, 0.01, 0.1],\n",
    "}\n",
    "\n",
    "scorer_fn = make_scorer(f1_score, pos_label='positivo')\n",
    "kfoldcv = StratifiedKFold(n_splits=5)\n",
    "\n",
    "gridcv = GridSearchCV(estimator=model,\n",
    "                      param_grid = params_grid,\n",
    "                      scoring=scorer_fn,\n",
    "                      cv=kfoldcv\n",
    "                      )\n",
    "\n",
    "model = gridcv.fit(x_train,y_train)\n",
    "\n",
    "y_pred = model.predict(x_test)\n",
    "score = f1_score(y_test, y_pred, pos_label='positivo')\n",
    "print(\"Parámetros:\", gridcv.best_params_, \"\\nF1 score: \", round(score, 3))\n",
    "\n"
   ]
  },
  {
   "cell_type": "code",
   "execution_count": 9,
   "metadata": {},
   "outputs": [
    {
     "name": "stdout",
     "output_type": "stream",
     "text": [
      "Matriz de confusión de los datos de prueba:\n"
     ]
    },
    {
     "data": {
      "image/png": "[encoded data removed]",
      "text/plain": [
       "<Figure size 640x480 with 2 Axes>"
      ]
     },
     "metadata": {},
     "output_type": "display_data"
    }
   ],
   "source": [
    "y_train_pred = model.predict(x_train)\n",
    "\n",
    "y_train_bool = (y_train == 'positivo').astype(int)\n",
    "y_train_pred_bool = (y_train_pred == 'positivo').astype(int)\n",
    "y_test_bool = (y_test == 'positivo').astype(int)\n",
    "y_test_pred_bool = (y_pred == 'positivo').astype(int)\n",
    "\n",
    "train_score = f1_score(y_train_bool.values, y_train_pred_bool)\n",
    "test_score = f1_score(y_test_bool.values, y_test_pred_bool)\n",
    "\n",
    "print(\"Matriz de confusión de los datos de prueba:\")\n",
    "cm = confusion_matrix(y_test, y_pred)\n",
    "sns.heatmap(cm, cmap='Blues',annot=True,fmt='g')\n",
    "plt.xlabel('Predicted')\n",
    "plt.ylabel('True');"
   ]
  },
  {
   "cell_type": "code",
   "execution_count": 10,
   "metadata": {},
   "outputs": [
    {
     "name": "stdout",
     "output_type": "stream",
     "text": [
      "Cálculo de las métricas en el conjunto de entrenamiento\n",
      "Accuracy:  0.943\n",
      "Recall:  0.946\n",
      "Precision:  0.941\n",
      "F1 score:  0.944\n",
      "\n",
      "Cálculo de las métricas en el conjunto de pruebas\n",
      "Accuracy:  0.86\n",
      "Recall:  0.874\n",
      "Precision:  0.85\n",
      "F1 score:  0.862\n"
     ]
    }
   ],
   "source": [
    "accuracy=accuracy_score(y_train_bool, y_train_pred_bool)\n",
    "recall=recall_score(y_train_bool, y_train_pred_bool)\n",
    "f1=f1_score(y_train_bool, y_train_pred_bool)\n",
    "precision=precision_score(y_train_bool, y_train_pred_bool)\n",
    "\n",
    "print(\"Cálculo de las métricas en el conjunto de entrenamiento\")\n",
    "print(\"Accuracy: \", round(accuracy, 3))\n",
    "print(\"Recall: \", round(recall, 3))\n",
    "print(\"Precision: \", round(precision, 3))\n",
    "print(\"F1 score: \", round(f1, 3))\n",
    "\n",
    "accuracy=accuracy_score(y_test_bool,y_test_pred_bool)\n",
    "recall=recall_score(y_test_bool,y_test_pred_bool)\n",
    "f1=f1_score(y_test_bool,y_test_pred_bool)\n",
    "precision=precision_score(y_test_bool,y_test_pred_bool)\n",
    "\n",
    "print(\"\\nCálculo de las métricas en el conjunto de pruebas\")\n",
    "print(\"Accuracy: \", round(accuracy, 3))\n",
    "print(\"Recall: \", round(recall, 3))\n",
    "print(\"Precision: \", round(precision, 3))\n",
    "print(\"F1 score: \", round(f1, 3))"
   ]
  },
  {
   "attachments": {},
   "cell_type": "markdown",
   "metadata": {},
   "source": [
    "## Predicción del conjunto test"
   ]
  },
  {
   "cell_type": "code",
   "execution_count": 11,
   "metadata": {},
   "outputs": [],
   "source": [
    "test = pd.read_csv('test_clean.csv')\n",
    "\n",
    "predictions = pd.DataFrame()\n",
    "predictions['ID'] = test['ID'].values\n",
    "predictions['sentimiento'] = model.predict(test['review_es'])\n",
    "\n",
    "predictions.to_csv('sample_solution.csv', index=False)"
   ]
  },
  {
   "cell_type": "markdown",
   "metadata": {},
   "source": [
    "## Exporación del modelo obtenido"
   ]
  },
  {
   "cell_type": "code",
   "execution_count": null,
   "metadata": {},
   "outputs": [],
   "source": [
    "pickle.dump(model, open(\"bayes_clean.pkl\", \"wb\"))"
   ]
  }
 ],
 "metadata": {
  "kernelspec": {
   "display_name": "Python 3",
   "language": "python",
   "name": "python3"
  },
  "language_info": {
   "codemirror_mode": {
    "name": "ipython",
    "version": 3
   },
   "file_extension": ".py",
   "mimetype": "text/x-python",
   "name": "python",
   "nbconvert_exporter": "python",
   "pygments_lexer": "ipython3",
   "version": "3.8.9"
  }
 },
 "nbformat": 4,
 "nbformat_minor": 2
}
