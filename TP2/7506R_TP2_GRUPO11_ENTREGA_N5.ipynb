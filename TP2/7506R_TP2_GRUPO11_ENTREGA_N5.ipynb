{
 "cells": [
  {
   "attachments": {},
   "cell_type": "markdown",
   "metadata": {},
   "source": [
    "<p align=\"center\">\n",
    "  <img src=\"https://i.ytimg.com/vi/Wm8ftqDZUVk/maxresdefault.jpg\" alt=\"FIUBA\" width=\"25%\"/>\n",
    "  </p>\n",
    "  \n",
    "# **Trabajo Práctico 2: Críticas Cinematográficas**\n",
    "### **Grupo**: 11 - Los Pandas 🐼\n",
    "### **Cuatrimestre**: 2ºC 2023\n",
    "### **Corrector**: Mateo Suster\n",
    "### **Integrantes**:\n",
    "- ### 106861 - Labollita, Francisco\n",
    "- ### 102312 - Mundani Vegega, Ezequiel\n",
    "- ###  97263 - Otegui, Matías Iñaki"
   ]
  },
  {
   "attachments": {},
   "cell_type": "markdown",
   "metadata": {},
   "source": [
    "# Modelo Red neuronal aplicando Keras y Tensor Flow 2\n",
    "\n",
    "Utilizando el dataset modificado, se entrena un modelo de Red Neuronal y luego se lo optimiza mediante gridsearch."
   ]
  },
  {
   "cell_type": "code",
   "execution_count": 2,
   "metadata": {},
   "outputs": [],
   "source": [
    "import pandas as pd\n",
    "import matplotlib.pyplot as plt\n",
    "import seaborn as sns\n",
    "import warnings\n",
    "import tensorflow as tf\n",
    "from tensorflow.keras.preprocessing.text import Tokenizer\n",
    "from tensorflow.keras.preprocessing.sequence import pad_sequences\n",
    "from tensorflow.keras.models import Sequential\n",
    "from tensorflow.keras.layers import Dense, Embedding, LSTM, Dropout\n",
    "from tensorflow.keras.regularizers import l2\n",
    "from scikeras.wrappers import KerasClassifier\n",
    "\n",
    "from sklearn.model_selection import train_test_split, GridSearchCV\n",
    "from sklearn.preprocessing import LabelEncoder\n",
    "from sklearn.metrics import confusion_matrix, accuracy_score, f1_score, precision_score, recall_score, make_scorer, classification_report\n",
    "\n",
    "warnings.filterwarnings('ignore', 'is_sparse is deprecated')\n",
    "tf.get_logger().setLevel('ERROR')\n",
    "tf.autograph.set_verbosity(10, None)"
   ]
  },
  {
   "cell_type": "code",
   "execution_count": 3,
   "metadata": {},
   "outputs": [],
   "source": [
    "reviews = pd.read_csv('train_clean.csv')"
   ]
  },
  {
   "cell_type": "code",
   "execution_count": 4,
   "metadata": {},
   "outputs": [],
   "source": [
    "tokenizer = Tokenizer(num_words=10000, oov_token=\"<OOV>\")\n",
    "tokenizer.fit_on_texts(reviews['review_es'])\n",
    "\n",
    "vocab_size = len(tokenizer.word_index) + 1\n",
    "encoded_docs = tokenizer.texts_to_sequences(reviews['review_es'])\n",
    "padded_sequence = pad_sequences(encoded_docs, maxlen=300)\n",
    "\n",
    "# Codificación de etiquetas\n",
    "encoder = LabelEncoder()\n",
    "sentimientos = encoder.fit_transform(reviews['sentimiento'])\n",
    "\n",
    "# Dividir los datos en conjuntos de entrenamiento y prueba\n",
    "X_train, X_test, y_train, y_test = train_test_split(\n",
    "    padded_sequence, sentimientos, test_size=0.2, random_state=1)"
   ]
  },
  {
   "attachments": {},
   "cell_type": "markdown",
   "metadata": {},
   "source": [
    "## Se entrena un modelo aleatorio de Red Neuronal"
   ]
  },
  {
   "attachments": {},
   "cell_type": "markdown",
   "metadata": {},
   "source": [
    "Este modelo utiliza las siguientes capas:\n",
    "\n",
    "- Capa de Embedding: Se utiliza para convertir las palabras en vectores densos de un espacio vectorial más pequeño, los cuales capturan la semántica de las palabras. vocab_size es el número total de palabras únicas en el conjunto de datos. 50 es la dimensión de los vectores de embedding y 300 es la longitud de las secuencias de entrada.\n",
    "\n",
    "- Capa de Dropout: Se utiliza para prevenir el sobreajuste en el modelo. Descarta aleatoriamente el 20%, en este caso, de las neuronas de la capa anterior durante el entrenamiento.\n",
    "\n",
    "- Capa LSTM: Esta es una capa de memoria a largo plazo. Es un tipo de red neuronal recurrente que puede aprender y recordar patrones a largo plazo en secuencias de datos. Tiene 100 unidades de memoria.\n",
    "\n",
    "- Capa Densa: Esta es la capa de salida del modelo. Tiene una sola unidad que representa la clase de salida (sentimiento positivo o negativo) y utiliza la función de activación sigmoide para producir una probabilidad de salida."
   ]
  },
  {
   "cell_type": "code",
   "execution_count": 7,
   "metadata": {},
   "outputs": [
    {
     "name": "stdout",
     "output_type": "stream",
     "text": [
      "Epoch 1/3\n",
      "625/625 [==============================] - 203s 321ms/step - loss: 1.2368 - accuracy: 0.5972 - val_loss: 0.6294 - val_accuracy: 0.8283\n",
      "Epoch 2/3\n",
      "625/625 [==============================] - 204s 326ms/step - loss: 0.5261 - accuracy: 0.8319 - val_loss: 0.4270 - val_accuracy: 0.8498\n",
      "Epoch 3/3\n",
      "625/625 [==============================] - 208s 333ms/step - loss: 0.4006 - accuracy: 0.8613 - val_loss: 0.4425 - val_accuracy: 0.8234\n",
      "1250/1250 [==============================] - 61s 48ms/step\n",
      "313/313 [==============================] - 15s 48ms/step\n"
     ]
    }
   ],
   "source": [
    "# Creación del modelo\n",
    "model = Sequential()\n",
    "model.add(Embedding(vocab_size, 50, input_length=300))\n",
    "model.add(Dropout(0.2))\n",
    "model.add(LSTM(100, kernel_regularizer=l2(0.01),\n",
    "          recurrent_regularizer=l2(0.01), bias_regularizer=l2(0.01)))\n",
    "model.add(Dropout(0.2))\n",
    "model.add(Dense(1, activation='sigmoid'))\n",
    "\n",
    "# Compilación del modelo\n",
    "model.compile(loss='binary_crossentropy',\n",
    "              optimizer='rmsprop', metrics=['accuracy'])\n",
    "\n",
    "# Entrenamiento del modelo\n",
    "model.fit(X_train, y_train, validation_data=(\n",
    "    X_test, y_test), epochs=3, batch_size=64)\n",
    "\n",
    "# Predicciones\n",
    "y_train_pred = (model.predict(X_train) > 0.5).astype(\"int32\")\n",
    "y_test_pred = (model.predict(X_test) > 0.5).astype(\"int32\")"
   ]
  },
  {
   "cell_type": "code",
   "execution_count": 8,
   "metadata": {},
   "outputs": [
    {
     "name": "stdout",
     "output_type": "stream",
     "text": [
      "Matriz de confusión de los datos de prueba\n"
     ]
    },
    {
     "data": {
      "image/png": "[encoded data removed]",
      "text/plain": [
       "<Figure size 640x480 with 2 Axes>"
      ]
     },
     "metadata": {},
     "output_type": "display_data"
    }
   ],
   "source": [
    "print(\"Matriz de confusión de los datos de prueba\")\n",
    "cm = confusion_matrix(y_test, y_test_pred)\n",
    "sns.heatmap(cm, cmap='Blues', annot=True, fmt='g')\n",
    "plt.xlabel('Predicted')\n",
    "plt.ylabel('True');"
   ]
  },
  {
   "cell_type": "code",
   "execution_count": 9,
   "metadata": {},
   "outputs": [
    {
     "name": "stdout",
     "output_type": "stream",
     "text": [
      "Cálculo de las métricas en el conjunto de entrenamiento\n",
      "Accuracy:  0.859\n",
      "Recall:  0.928\n",
      "Precision:  0.815\n",
      "F1 score:  0.868\n",
      "              precision    recall  f1-score   support\n",
      "\n",
      "           0       0.92      0.79      0.85     19956\n",
      "           1       0.82      0.93      0.87     20044\n",
      "\n",
      "    accuracy                           0.86     40000\n",
      "   macro avg       0.87      0.86      0.86     40000\n",
      "weighted avg       0.87      0.86      0.86     40000\n",
      "\n"
     ]
    }
   ],
   "source": [
    "accuracy = accuracy_score(y_train, y_train_pred)\n",
    "recall = recall_score(y_train, y_train_pred)\n",
    "f1 = f1_score(y_train, y_train_pred)\n",
    "precision = precision_score(y_train, y_train_pred)\n",
    "\n",
    "print(\"Cálculo de las métricas en el conjunto de entrenamiento\")\n",
    "print(\"Accuracy: \", round(accuracy, 3))\n",
    "print(\"Recall: \", round(recall, 3))\n",
    "print(\"Precision: \", round(precision, 3))\n",
    "print(\"F1 score: \", round(f1, 3))\n",
    "\n",
    "print(classification_report(y_train, y_train_pred))"
   ]
  },
  {
   "cell_type": "code",
   "execution_count": 10,
   "metadata": {},
   "outputs": [
    {
     "name": "stdout",
     "output_type": "stream",
     "text": [
      "Cálculo de las métricas en el conjunto de pruebas\n",
      "Accuracy:  0.823\n",
      "Recall:  0.901\n",
      "Precision:  0.778\n",
      "F1 score:  0.835\n",
      "              precision    recall  f1-score   support\n",
      "\n",
      "           0       0.88      0.75      0.81      5044\n",
      "           1       0.78      0.90      0.83      4956\n",
      "\n",
      "    accuracy                           0.82     10000\n",
      "   macro avg       0.83      0.82      0.82     10000\n",
      "weighted avg       0.83      0.82      0.82     10000\n",
      "\n"
     ]
    }
   ],
   "source": [
    "accuracy=accuracy_score(y_test,y_test_pred)\n",
    "recall=recall_score(y_test,y_test_pred)\n",
    "f1=f1_score(y_test,y_test_pred)\n",
    "precision=precision_score(y_test, y_test_pred)\n",
    "\n",
    "print(\"Cálculo de las métricas en el conjunto de pruebas\")\n",
    "print(\"Accuracy: \", round(accuracy, 3))\n",
    "print(\"Recall: \", round(recall, 3))\n",
    "print(\"Precision: \", round(precision, 3))\n",
    "print(\"F1 score: \", round(f1, 3))\n",
    "\n",
    "print(classification_report(y_test, y_test_pred))"
   ]
  },
  {
   "attachments": {},
   "cell_type": "markdown",
   "metadata": {},
   "source": [
    "## Optimización de hiperparámetros mediante GridSearch"
   ]
  },
  {
   "cell_type": "code",
   "execution_count": 5,
   "metadata": {},
   "outputs": [],
   "source": [
    "def create_model(dropout_rate=0.2, optimizer='rmsprop'):\n",
    "    model = Sequential()\n",
    "    model.add(Embedding(vocab_size, 50, input_length=300))\n",
    "    model.add(Dropout(dropout_rate))\n",
    "    model.add(LSTM(100, kernel_regularizer=l2(0.01),\n",
    "              recurrent_regularizer=l2(0.01), bias_regularizer=l2(0.01)))\n",
    "    model.add(Dropout(dropout_rate))\n",
    "    model.add(Dense(1, activation='sigmoid'))\n",
    "    model.compile(loss='binary_crossentropy',\n",
    "                  optimizer=optimizer, metrics=['accuracy'])\n",
    "    return model"
   ]
  },
  {
   "cell_type": "code",
   "execution_count": 6,
   "metadata": {},
   "outputs": [
    {
     "name": "stderr",
     "output_type": "stream",
     "text": [
      "c:\\Users\\xaki\\AppData\\Local\\Programs\\Python\\Python311\\Lib\\site-packages\\joblib\\externals\\loky\\process_executor.py:752: UserWarning: A worker stopped while some jobs were given to the executor. This can be caused by a too short worker timeout or by a memory leak.\n",
      "  warnings.warn(\n"
     ]
    },
    {
     "name": "stdout",
     "output_type": "stream",
     "text": [
      "Mejor scoring: 0.855725 usando {'batch_size': 64, 'epochs': 3, 'model__dropout_rate': 0.3, 'model__optimizer': 'adam'}\n"
     ]
    }
   ],
   "source": [
    "model = KerasClassifier(model=create_model, verbose=0)\n",
    "\n",
    "param_grid = {\n",
    "    'epochs': [3, 5],\n",
    "    'batch_size': [64, 128],\n",
    "    'model__dropout_rate': [0.2, 0.3],\n",
    "    'model__optimizer': ['rmsprop', 'adam']\n",
    "}\n",
    "\n",
    "grid = GridSearchCV(estimator=model, param_grid=param_grid,\n",
    "                    cv=5, n_jobs=-1, scoring='accuracy')\n",
    "\n",
    "grid_result = grid.fit(X_train, y_train)\n",
    "\n",
    "print(f\"Mejor scoring: {grid_result.best_score_} usando {grid_result.best_params_}\")"
   ]
  },
  {
   "attachments": {},
   "cell_type": "markdown",
   "metadata": {},
   "source": [
    "## Análisis del mejor modelo obtenido"
   ]
  },
  {
   "cell_type": "code",
   "execution_count": 7,
   "metadata": {},
   "outputs": [
    {
     "name": "stdout",
     "output_type": "stream",
     "text": [
      "Epoch 1/3\n",
      "625/625 [==============================] - 236s 375ms/step - loss: 1.1423 - accuracy: 0.7731 - val_loss: 0.6177 - val_accuracy: 0.8663\n",
      "Epoch 2/3\n",
      "625/625 [==============================] - 231s 369ms/step - loss: 0.4935 - accuracy: 0.8678 - val_loss: 0.4247 - val_accuracy: 0.8610\n",
      "Epoch 3/3\n",
      "625/625 [==============================] - 231s 370ms/step - loss: 0.3427 - accuracy: 0.8902 - val_loss: 0.3730 - val_accuracy: 0.8718\n",
      "1250/1250 [==============================] - 66s 52ms/step\n",
      "313/313 [==============================] - 17s 53ms/step\n"
     ]
    }
   ],
   "source": [
    "# Creación del modelo\n",
    "model = Sequential()\n",
    "model.add(Embedding(vocab_size, 50, input_length=300))\n",
    "model.add(Dropout(0.3))\n",
    "model.add(LSTM(100, kernel_regularizer=l2(0.01),\n",
    "          recurrent_regularizer=l2(0.01), bias_regularizer=l2(0.01)))\n",
    "model.add(Dropout(0.3))\n",
    "model.add(Dense(1, activation='sigmoid'))\n",
    "\n",
    "# Compilación del modelo\n",
    "model.compile(loss='binary_crossentropy',\n",
    "              optimizer='adam', metrics=['accuracy'])\n",
    "\n",
    "# Entrenamiento del modelo\n",
    "model.fit(X_train, y_train, validation_data=(\n",
    "    X_test, y_test), epochs=3, batch_size=64)\n",
    "\n",
    "# Predicciones\n",
    "y_train_pred = (model.predict(X_train) > 0.5).astype(\"int32\")\n",
    "y_test_pred = (model.predict(X_test) > 0.5).astype(\"int32\")"
   ]
  },
  {
   "cell_type": "code",
   "execution_count": 8,
   "metadata": {},
   "outputs": [
    {
     "name": "stdout",
     "output_type": "stream",
     "text": [
      "Matriz de confusión de los datos de prueba\n"
     ]
    },
    {
     "data": {
      "image/png": "[encoded data removed]",
      "text/plain": [
       "<Figure size 640x480 with 2 Axes>"
      ]
     },
     "metadata": {},
     "output_type": "display_data"
    }
   ],
   "source": [
    "print(\"Matriz de confusión de los datos de prueba\")\n",
    "cm = confusion_matrix(y_test, y_test_pred)\n",
    "sns.heatmap(cm, cmap='Blues', annot=True, fmt='g')\n",
    "plt.xlabel('Predicted')\n",
    "plt.ylabel('True');"
   ]
  },
  {
   "cell_type": "code",
   "execution_count": 9,
   "metadata": {},
   "outputs": [
    {
     "name": "stdout",
     "output_type": "stream",
     "text": [
      "Cálculo de las métricas en el conjunto de entrenamiento\n",
      "Accuracy:  0.924\n",
      "Recall:  0.931\n",
      "Precision:  0.919\n",
      "F1 score:  0.925\n",
      "              precision    recall  f1-score   support\n",
      "\n",
      "           0       0.93      0.92      0.92     19956\n",
      "           1       0.92      0.93      0.92     20044\n",
      "\n",
      "    accuracy                           0.92     40000\n",
      "   macro avg       0.92      0.92      0.92     40000\n",
      "weighted avg       0.92      0.92      0.92     40000\n",
      "\n"
     ]
    }
   ],
   "source": [
    "accuracy = accuracy_score(y_train, y_train_pred)\n",
    "recall = recall_score(y_train, y_train_pred)\n",
    "f1 = f1_score(y_train, y_train_pred)\n",
    "precision = precision_score(y_train, y_train_pred)\n",
    "\n",
    "print(\"Cálculo de las métricas en el conjunto de entrenamiento\")\n",
    "print(\"Accuracy: \", round(accuracy, 3))\n",
    "print(\"Recall: \", round(recall, 3))\n",
    "print(\"Precision: \", round(precision, 3))\n",
    "print(\"F1 score: \", round(f1, 3))\n",
    "\n",
    "print(classification_report(y_train, y_train_pred))"
   ]
  },
  {
   "cell_type": "code",
   "execution_count": 10,
   "metadata": {},
   "outputs": [
    {
     "name": "stdout",
     "output_type": "stream",
     "text": [
      "Cálculo de las métricas en el conjunto de pruebas\n",
      "Accuracy:  0.872\n",
      "Recall:  0.878\n",
      "Precision:  0.865\n",
      "F1 score:  0.872\n",
      "              precision    recall  f1-score   support\n",
      "\n",
      "           0       0.88      0.87      0.87      5044\n",
      "           1       0.87      0.88      0.87      4956\n",
      "\n",
      "    accuracy                           0.87     10000\n",
      "   macro avg       0.87      0.87      0.87     10000\n",
      "weighted avg       0.87      0.87      0.87     10000\n",
      "\n"
     ]
    }
   ],
   "source": [
    "accuracy = accuracy_score(y_test, y_test_pred)\n",
    "recall = recall_score(y_test, y_test_pred)\n",
    "f1 = f1_score(y_test, y_test_pred)\n",
    "precision = precision_score(y_test, y_test_pred)\n",
    "\n",
    "print(\"Cálculo de las métricas en el conjunto de pruebas\")\n",
    "print(\"Accuracy: \", round(accuracy, 3))\n",
    "print(\"Recall: \", round(recall, 3))\n",
    "print(\"Precision: \", round(precision, 3))\n",
    "print(\"F1 score: \", round(f1, 3))\n",
    "\n",
    "print(classification_report(y_test, y_test_pred))"
   ]
  },
  {
   "attachments": {},
   "cell_type": "markdown",
   "metadata": {},
   "source": [
    "## Predicción del conjunto test"
   ]
  },
  {
   "cell_type": "code",
   "execution_count": 11,
   "metadata": {},
   "outputs": [
    {
     "name": "stdout",
     "output_type": "stream",
     "text": [
      "269/269 [==============================] - 13s 50ms/step\n"
     ]
    }
   ],
   "source": [
    "test_df = pd.read_csv('test_clean.csv')\n",
    "\n",
    "encoded_docs_test = tokenizer.texts_to_sequences(test_df['review_es'])\n",
    "padded_sequence_test = pad_sequences(encoded_docs_test, maxlen=300)\n",
    "\n",
    "predictions = model.predict(padded_sequence_test)\n",
    "y_pred_test = ['positivo' if pred >\n",
    "               0.5 else 'negativo' for pred in predictions]\n",
    "\n",
    "test_df['sentimiento'] = y_pred_test\n",
    "test_df.drop(\"review_es\", axis=1, inplace=True)\n",
    "test_df.to_csv('sample_solution.csv', index=False)"
   ]
  }
 ],
 "metadata": {
  "kernelspec": {
   "display_name": "Python 3",
   "language": "python",
   "name": "python3"
  },
  "language_info": {
   "codemirror_mode": {
    "name": "ipython",
    "version": 3
   },
   "file_extension": ".py",
   "mimetype": "text/x-python",
   "name": "python",
   "nbconvert_exporter": "python",
   "pygments_lexer": "ipython3",
   "version": "3.11.5"
  }
 },
 "nbformat": 4,
 "nbformat_minor": 2
}
