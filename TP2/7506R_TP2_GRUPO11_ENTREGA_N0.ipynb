{
 "cells": [
  {
   "attachments": {},
   "cell_type": "markdown",
   "metadata": {},
   "source": [
    "<p align=\"center\">\n",
    "  <img src=\"https://i.ytimg.com/vi/Wm8ftqDZUVk/maxresdefault.jpg\" alt=\"FIUBA\" width=\"25%\"/>\n",
    "  </p>\n",
    "  \n",
    "# **Trabajo Práctico 2: Críticas Cinematográficas**\n",
    "### **Grupo**: 11 - Los Pandas 🐼\n",
    "### **Cuatrimestre**: 2ºC 2023\n",
    "### **Corrector**: Mateo Suster\n",
    "### **Integrantes**:\n",
    "- ### 106861 - Labollita, Francisco\n",
    "- ### 102312 - Mundani Vegega, Ezequiel\n",
    "- ###  97263 - Otegui, Matías Iñaki"
   ]
  },
  {
   "attachments": {},
   "cell_type": "markdown",
   "metadata": {},
   "source": [
    "# Pre-procesamiento de datos"
   ]
  },
  {
   "cell_type": "code",
   "execution_count": 38,
   "metadata": {},
   "outputs": [],
   "source": [
    "import pandas as pd\n",
    "import matplotlib.pyplot as plt\n",
    "import spacy\n",
    "from unidecode import unidecode"
   ]
  },
  {
   "cell_type": "code",
   "execution_count": 39,
   "metadata": {},
   "outputs": [],
   "source": [
    "#!pip install spacy\n",
    "#!python -m spacy download es_core_news_sm\n",
    "#!pip install unicode"
   ]
  },
  {
   "cell_type": "code",
   "execution_count": 40,
   "metadata": {},
   "outputs": [],
   "source": [
    "# Se modifica el tamaño de los gráficos por defecto\n",
    "plt.rcParams['figure.figsize'] = [4, 4]"
   ]
  },
  {
   "cell_type": "code",
   "execution_count": 41,
   "metadata": {},
   "outputs": [],
   "source": [
    "# Cargar el modelo en español de spaCy\n",
    "nlp = spacy.load('es_core_news_sm')"
   ]
  },
  {
   "cell_type": "code",
   "execution_count": 42,
   "metadata": {},
   "outputs": [],
   "source": [
    "reviews_train = pd.read_csv('train.csv')\n",
    "reviews_test = pd.read_csv('test.csv')"
   ]
  },
  {
   "attachments": {},
   "cell_type": "markdown",
   "metadata": {},
   "source": [
    "### Cantidad de reviews positivas y reviews negativas"
   ]
  },
  {
   "attachments": {},
   "cell_type": "markdown",
   "metadata": {},
   "source": [
    "#### Train"
   ]
  },
  {
   "cell_type": "code",
   "execution_count": null,
   "metadata": {},
   "outputs": [
    {
     "name": "stdout",
     "output_type": "stream",
     "text": [
      "Cantidad de reviews totales:  50000\n",
      "Cantidad de reviews positivas:  25000\n",
      "Cantidad de reviews negativas:  25000\n"
     ]
    },
    {
     "data": {
      "image/png": "[encoded data removed]",
      "text/plain": [
       "<Figure size 400x400 with 1 Axes>"
      ]
     },
     "metadata": {},
     "output_type": "display_data"
    }
   ],
   "source": [
    "count_train = reviews_train['sentimiento'].value_counts()\n",
    "\n",
    "print('Cantidad de reviews totales: ', count_train.sum())\n",
    "print('Cantidad de reviews positivas: ', count_train.iloc[0])\n",
    "print('Cantidad de reviews negativas: ', count_train.iloc[1])\n",
    "\n",
    "count_train.plot(kind='bar')\n",
    "plt.title('Comparación de la cantidad de reviews positivas y negativas')\n",
    "plt.xlabel('Sentimiento')\n",
    "plt.ylabel('Cantidad')\n",
    "plt.show()"
   ]
  },
  {
   "attachments": {},
   "cell_type": "markdown",
   "metadata": {},
   "source": [
    "#### Test"
   ]
  },
  {
   "cell_type": "code",
   "execution_count": 44,
   "metadata": {},
   "outputs": [
    {
     "name": "stdout",
     "output_type": "stream",
     "text": [
      "Cantidad de reviews totales:  8599\n"
     ]
    }
   ],
   "source": [
    "count_test = reviews_test.value_counts()\n",
    "\n",
    "print('Cantidad de reviews totales: ', count_test.sum())"
   ]
  },
  {
   "attachments": {},
   "cell_type": "markdown",
   "metadata": {},
   "source": [
    "### Limpiar datos"
   ]
  },
  {
   "attachments": {},
   "cell_type": "markdown",
   "metadata": {},
   "source": [
    "Se realiza un HTML Strip para eliminar las etiquetas HTML de un texto en caso de que haya algunas. También se eliminan los caracteres especiales que no sean letras (acentuadas o no), números o espacios. Se eliminan los espacios al principio y al final del texto. Se convierte todo el texto a minúsculas para dar uniformidad y reducir la dimensionalidad.  \n",
    "\n",
    "Luego, con la librería spaCy se eliminan las StopWord (pronombres, conjunciones, etc...) y se mantienen los acentos para que el proceso de lematización trabaje mejor. Se lematiza el texto para reducir la dimensionalidad y dar uniformidad.  \n",
    "\n",
    "Finalmente, se quitan los tíldes."
   ]
  },
  {
   "cell_type": "code",
   "execution_count": 45,
   "metadata": {},
   "outputs": [],
   "source": [
    "# Realizar un HTML strip\n",
    "reviews_train['review_es'] = reviews_train['review_es'].str.replace(\n",
    "    '<.*?>', '', regex=True)\n",
    "reviews_test['review_es'] = reviews_test['review_es'].str.replace(\n",
    "    '<.*?>', '', regex=True)\n",
    "\n",
    "# Reemplaza caracteres extraños que no sean letras (acentuadas o no), números o espacios por un espacio\n",
    "reviews_train['review_es'] = reviews_train['review_es'].str.replace(\n",
    "    '[^a-zA-ZáéíóúÁÉÍÓÚüÜñÑçÇ0-9\\\\s]', '', regex=True)\n",
    "reviews_test['review_es'] = reviews_test['review_es'].str.replace(\n",
    "    '[^a-zA-ZáéíóúÁÉÍÓÚüÜñÑçÇ0-9\\\\s]', '', regex=True)\n",
    "\n",
    "# Eliminar los espacios al principio y al final de cada review\n",
    "reviews_train['review_es'] = reviews_train['review_es'].str.strip()\n",
    "reviews_test['review_es'] = reviews_test['review_es'].str.strip()\n",
    "\n",
    "# Convertir todo a minúsculas\n",
    "reviews_train['review_es'] = reviews_train['review_es'].str.lower()\n",
    "reviews_test['review_es'] = reviews_test['review_es'].str.lower()"
   ]
  },
  {
   "attachments": {},
   "cell_type": "markdown",
   "metadata": {},
   "source": [
    "Se eliminan las stopwords en español con la librería spaCy."
   ]
  },
  {
   "cell_type": "code",
   "execution_count": 46,
   "metadata": {},
   "outputs": [],
   "source": [
    "# Función para eliminar stopwords\n",
    "def eliminar_stopwords(texto):\n",
    "    doc = nlp(texto)\n",
    "    return ' '.join([token.text for token in doc if not token.is_stop])\n",
    "\n",
    "\n",
    "# Aplicar la función para eliminar stopwords\n",
    "reviews_train['review_es'] = reviews_train['review_es'].apply(eliminar_stopwords)\n",
    "reviews_test['review_es'] = reviews_test['review_es'].apply(eliminar_stopwords)"
   ]
  },
  {
   "attachments": {},
   "cell_type": "markdown",
   "metadata": {},
   "source": [
    "Se realiza el proceso de lematización de las reviews para disminuir la dimensionalidad, mejorar la precisión y normalizar el texto."
   ]
  },
  {
   "cell_type": "code",
   "execution_count": 47,
   "metadata": {},
   "outputs": [],
   "source": [
    "# Función para lematizar texto\n",
    "def lematizar(texto):\n",
    "    doc = nlp(texto)\n",
    "    return ' '.join([token.lemma_ for token in doc])\n",
    "\n",
    "\n",
    "# Aplicar la función para lematizar la columna 'review_es'\n",
    "reviews_train['review_es'] = reviews_train['review_es'].apply(lematizar)\n",
    "reviews_test['review_es'] = reviews_test['review_es'].apply(lematizar)"
   ]
  },
  {
   "attachments": {},
   "cell_type": "markdown",
   "metadata": {},
   "source": [
    "Se quitan los tildes."
   ]
  },
  {
   "cell_type": "code",
   "execution_count": 49,
   "metadata": {},
   "outputs": [],
   "source": [
    "reviews_train['review_es'] = reviews_train['review_es'].apply(\n",
    "     lambda x: unidecode(x) if pd.notnull(x) else x)\n",
    "reviews_test['review_es'] = reviews_test['review_es'].apply(\n",
    "    lambda x: unidecode(x) if pd.notnull(x) else x)"
   ]
  },
  {
   "attachments": {},
   "cell_type": "markdown",
   "metadata": {},
   "source": [
    "### Exportar datos limpios"
   ]
  },
  {
   "cell_type": "code",
   "execution_count": 50,
   "metadata": {},
   "outputs": [],
   "source": [
    "reviews_train.to_csv('train_clean.csv', index=False)\n",
    "reviews_test.to_csv('test_clean.csv', index=False)"
   ]
  }
 ],
 "metadata": {
  "kernelspec": {
   "display_name": "Python 3",
   "language": "python",
   "name": "python3"
  },
  "language_info": {
   "codemirror_mode": {
    "name": "ipython",
    "version": 3
   },
   "file_extension": ".py",
   "mimetype": "text/x-python",
   "name": "python",
   "nbconvert_exporter": "python",
   "pygments_lexer": "ipython3",
   "version": "3.11.5"
  }
 },
 "nbformat": 4,
 "nbformat_minor": 2
}
