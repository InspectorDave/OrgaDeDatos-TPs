{
 "cells": [
  {
   "cell_type": "markdown",
   "metadata": {},
   "source": [
    "<p align=\"center\">\n",
    "  <img src=\"https://i.ytimg.com/vi/Wm8ftqDZUVk/maxresdefault.jpg\" alt=\"FIUBA\" width=\"25%\"/>\n",
    "  </p>\n",
    "  \n",
    "# **Trabajo Práctico 2: Críticas Cinematográficas**\n",
    "### **Grupo**: 11 - Los Pandas 🐼\n",
    "### **Cuatrimestre**: 2ºC 2023\n",
    "### **Corrector**: ¿?\n",
    "### **Integrantes**:\n",
    "### 106861 - Labollita, Francisco\n",
    "### 102312 - Mundani Vegega, Ezequiel\n",
    "###  97263 - Otegui, Matías Iñaki"
   ]
  },
  {
   "cell_type": "markdown",
   "metadata": {},
   "source": [
    "# Modelo Bayes Naive"
   ]
  },
  {
   "cell_type": "code",
   "execution_count": 1,
   "metadata": {},
   "outputs": [],
   "source": [
    "import pandas as pd\n",
    "import matplotlib.pyplot as plt\n",
    "import seaborn as sns\n",
    "\n",
    "from sklearn.model_selection import train_test_split\n",
    "from sklearn.feature_extraction.text import CountVectorizer, TfidfVectorizer\n",
    "from sklearn.naive_bayes import MultinomialNB, ComplementNB, BernoulliNB\n",
    "from sklearn.pipeline import make_pipeline\n",
    "from sklearn.metrics import confusion_matrix, accuracy_score, f1_score, precision_score, recall_score"
   ]
  },
  {
   "cell_type": "code",
   "execution_count": 2,
   "metadata": {},
   "outputs": [],
   "source": [
    "reviews = pd.read_csv('train.csv')"
   ]
  },
  {
   "cell_type": "markdown",
   "metadata": {},
   "source": [
    "## Implementación del bag of words"
   ]
  },
  {
   "cell_type": "code",
   "execution_count": 3,
   "metadata": {},
   "outputs": [
    {
     "name": "stdout",
     "output_type": "stream",
     "text": [
      "['00' '000' '00000' '00000000000' '0000000000001' '00000001' '00001'\n",
      " '0001' '00015' '000dm' '001' '002' '003830' '006' '0069' '007' '0079'\n",
      " '007the' '0080' '0083']\n",
      "['antietam' 'antif' 'antifamatoria' 'antifascismo' 'antifascista'\n",
      " 'antifascistas' 'antifética' 'antigraves' 'antigua' 'antiguada'\n",
      " 'antiguado' 'antiguales' 'antiguas' 'antigubernamentales' 'antiguo'\n",
      " 'antiguos' 'antigüedad' 'antigüedadera' 'antigüedades' 'antihano']\n",
      "['úsalo' 'úselo' 'ústica' 'útero' 'útil' 'útiles' 'útilmente' 'über'\n",
      " 'übermensch' 'übermenschlich' 'überwoman' 'ünel' 'ünfaful' 'üvegtigris'\n",
      " 'üzümcü' 'þorleifsson' 'þó' 'żmijewski' 'יגאל' 'כרמון']\n"
     ]
    }
   ],
   "source": [
    "vectorizer = TfidfVectorizer()\n",
    "vectorizer.fit_transform(reviews['review_es'])\n",
    "\n",
    "# Primeros 20 elementos\n",
    "print(vectorizer.get_feature_names_out()[:20])\n",
    "# Elementos del medio\n",
    "print(vectorizer.get_feature_names_out()[10000:10020])\n",
    "# Últimos 20 elementos\n",
    "print(vectorizer.get_feature_names_out()[-20:])"
   ]
  },
  {
   "cell_type": "markdown",
   "metadata": {},
   "source": [
    "Se ve que varias \"palabras\" serán números, algunas tendrán símbolos no pertenecientes al alfabeto español y también se comprueba que están palabras españolas."
   ]
  },
  {
   "cell_type": "markdown",
   "metadata": {},
   "source": [
    "## Entrenamiento del modelo\n",
    "\n",
    "Primero se ve cuál es el mejor tipo de clasificador para el modelo, se prueba con Bernoulli, Multinomial y Gaussiano. Luego se optimizan sus hiperparámetros."
   ]
  },
  {
   "cell_type": "code",
   "execution_count": 4,
   "metadata": {},
   "outputs": [],
   "source": [
    "reviews_x = reviews['review_es'].copy()\n",
    "reviews_y = reviews['sentimiento'].copy()\n",
    "\n",
    "x_train, x_test, y_train, y_test = train_test_split(reviews_x, reviews_y, test_size=0.30, random_state=0)"
   ]
  },
  {
   "cell_type": "code",
   "execution_count": 5,
   "metadata": {},
   "outputs": [
    {
     "name": "stdout",
     "output_type": "stream",
     "text": [
      "Para CountVectorizer() , MultinomialNB() la precision es 0.8393\n",
      "Para CountVectorizer() , ComplementNB() la precision es 0.8391\n",
      "Para CountVectorizer() , BernoulliNB() la precision es 0.8469\n",
      "Para TfidfVectorizer() , MultinomialNB() la precision es 0.8568\n",
      "Para TfidfVectorizer() , ComplementNB() la precision es 0.8567\n",
      "Para TfidfVectorizer() , BernoulliNB() la precision es 0.8469\n"
     ]
    }
   ],
   "source": [
    "classifiers = [\n",
    "    MultinomialNB(),\n",
    "    ComplementNB(),\n",
    "    BernoulliNB(),\n",
    "]\n",
    "\n",
    "vectorizers = [\n",
    "    CountVectorizer(),\n",
    "    TfidfVectorizer()\n",
    "]\n",
    "\n",
    "for v in vectorizers:\n",
    "    for c in classifiers:\n",
    "        model = make_pipeline(v, c)\n",
    "\n",
    "        model.fit(x_train, y_train)\n",
    "\n",
    "        predicted_categories = model.predict(x_test)\n",
    "\n",
    "        print(\"Para\", v, \",\", c, \"la precision es\", round(accuracy_score(y_test, predicted_categories), 4))"
   ]
  },
  {
   "cell_type": "markdown",
   "metadata": {},
   "source": [
    "## Análisis del mejor modelo entrenado\n",
    "\n",
    "Se obtuvo que el mejor modelo es un CountVectorizer con clasificador multinomial."
   ]
  },
  {
   "cell_type": "code",
   "execution_count": 6,
   "metadata": {},
   "outputs": [],
   "source": [
    "model = make_pipeline(TfidfVectorizer(), MultinomialNB())\n",
    "model.fit(x_train, y_train)\n",
    "\n",
    "y_train_pred = model.predict(x_train)\n",
    "y_test_pred = model.predict(x_test)"
   ]
  },
  {
   "cell_type": "code",
   "execution_count": 7,
   "metadata": {},
   "outputs": [
    {
     "name": "stdout",
     "output_type": "stream",
     "text": [
      "Matriz de confusión de los datos de prueba:\n"
     ]
    },
    {
     "data": {
      "image/png": "[encoded data removed]",
      "text/plain": [
       "<Figure size 640x480 with 2 Axes>"
      ]
     },
     "metadata": {},
     "output_type": "display_data"
    }
   ],
   "source": [
    "y_train_bool = (y_train == 'positivo').astype(int)\n",
    "y_train_pred_bool = (y_train_pred == 'positivo').astype(int)\n",
    "y_test_bool = (y_test == 'positivo').astype(int)\n",
    "y_test_pred_bool = (y_test_pred == 'positivo').astype(int)\n",
    "\n",
    "train_score = f1_score(y_train_bool.values, y_train_pred_bool)\n",
    "test_score = f1_score(y_test_bool.values, y_test_pred_bool)\n",
    "\n",
    "print(\"Matriz de confusión de los datos de prueba:\")\n",
    "cm = confusion_matrix(y_test, y_test_pred)\n",
    "sns.heatmap(cm, cmap='Blues',annot=True,fmt='g')\n",
    "plt.xlabel('Predicted')\n",
    "plt.ylabel('True');"
   ]
  },
  {
   "cell_type": "code",
   "execution_count": 8,
   "metadata": {},
   "outputs": [
    {
     "name": "stdout",
     "output_type": "stream",
     "text": [
      "Cálculo de las métricas en el conjunto de entrenamiento\n",
      "Accuracy:  0.914\n",
      "Recall:  0.905\n",
      "Precision:  0.921\n",
      "F1 score:  0.913\n",
      "\n",
      "Cálculo de las métricas en el conjunto de pruebas\n",
      "Accuracy:  0.857\n",
      "Recall:  0.851\n",
      "Precision:  0.86\n",
      "F1 score:  0.855\n"
     ]
    }
   ],
   "source": [
    "accuracy=accuracy_score(y_train_bool, y_train_pred_bool)\n",
    "recall=recall_score(y_train_bool, y_train_pred_bool)\n",
    "f1=f1_score(y_train_bool, y_train_pred_bool)\n",
    "precision=precision_score(y_train_bool, y_train_pred_bool)\n",
    "\n",
    "print(\"Cálculo de las métricas en el conjunto de entrenamiento\")\n",
    "print(\"Accuracy: \", round(accuracy, 3))\n",
    "print(\"Recall: \", round(recall, 3))\n",
    "print(\"Precision: \", round(precision, 3))\n",
    "print(\"F1 score: \", round(f1, 3))\n",
    "\n",
    "accuracy=accuracy_score(y_test_bool,y_test_pred_bool)\n",
    "recall=recall_score(y_test_bool,y_test_pred_bool)\n",
    "f1=f1_score(y_test_bool,y_test_pred_bool)\n",
    "precision=precision_score(y_test_bool,y_test_pred_bool)\n",
    "\n",
    "print(\"\\nCálculo de las métricas en el conjunto de pruebas\")\n",
    "print(\"Accuracy: \", round(accuracy, 3))\n",
    "print(\"Recall: \", round(recall, 3))\n",
    "print(\"Precision: \", round(precision, 3))\n",
    "print(\"F1 score: \", round(f1, 3))"
   ]
  },
  {
   "cell_type": "markdown",
   "metadata": {},
   "source": [
    "## Predicción del conjunto test"
   ]
  },
  {
   "cell_type": "code",
   "execution_count": 9,
   "metadata": {},
   "outputs": [],
   "source": [
    "test = pd.read_csv('test.csv')\n",
    "\n",
    "predictions = pd.DataFrame()\n",
    "predictions['ID'] = test['ID'].values\n",
    "predictions['sentimiento'] = model.predict(test['review_es'])\n",
    "\n",
    "predictions.to_csv('sample_submission.csv', index=False)"
   ]
  }
 ],
 "metadata": {
  "kernelspec": {
   "display_name": "Python 3",
   "language": "python",
   "name": "python3"
  },
  "language_info": {
   "codemirror_mode": {
    "name": "ipython",
    "version": 3
   },
   "file_extension": ".py",
   "mimetype": "text/x-python",
   "name": "python",
   "nbconvert_exporter": "python",
   "pygments_lexer": "ipython3",
   "version": "3.11.5"
  }
 },
 "nbformat": 4,
 "nbformat_minor": 2
}
