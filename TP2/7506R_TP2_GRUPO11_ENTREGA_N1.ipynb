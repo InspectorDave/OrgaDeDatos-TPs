{
 "cells": [
  {
   "attachments": {},
   "cell_type": "markdown",
   "metadata": {},
   "source": [
    "<p align=\"center\">\n",
    "  <img src=\"https://i.ytimg.com/vi/Wm8ftqDZUVk/maxresdefault.jpg\" alt=\"FIUBA\" width=\"25%\"/>\n",
    "  </p>\n",
    "  \n",
    "# **Trabajo Práctico 2: Críticas Cinematográficas**\n",
    "### **Grupo**: 11 - Los Pandas 🐼\n",
    "### **Cuatrimestre**: 2ºC 2023\n",
    "### **Corrector**: Mateo Suster\n",
    "### **Integrantes**:\n",
    "### 106861 - Labollita, Francisco\n",
    "### 102312 - Mundani Vegega, Ezequiel\n",
    "###  97263 - Otegui, Matías Iñaki"
   ]
  }
 ],
 "metadata": {
  "language_info": {
   "name": "python"
  }
 },
 "nbformat": 4,
 "nbformat_minor": 2
}
