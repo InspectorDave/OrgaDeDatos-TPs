{
 "cells": [
  {
   "attachments": {},
   "cell_type": "markdown",
   "metadata": {},
   "source": [
    "<p align=\"center\">\n",
    "  <img src=\"https://i.ytimg.com/vi/Wm8ftqDZUVk/maxresdefault.jpg\" alt=\"FIUBA\" width=\"25%\"/>\n",
    "  </p>\n",
    "  \n",
    "# **Trabajo Práctico 2: Críticas Cinematográficas**\n",
    "### **Grupo**: 11 - Los Pandas 🐼\n",
    "### **Cuatrimestre**: 2ºC 2023\n",
    "### **Corrector**: Mateo Suster\n",
    "### **Integrantes**:\n",
    "- ### 106861 - Labollita, Francisco\n",
    "- ### 102312 - Mundani Vegega, Ezequiel\n",
    "- ###  97263 - Otegui, Matías Iñaki"
   ]
  },
  {
   "attachments": {},
   "cell_type": "markdown",
   "metadata": {},
   "source": [
    "# Ensamble de varios modelos\n",
    "\n",
    "A partir de los modelos Random Forest, XGBoost y Bayes Naive entrenados en notebooks anteriores, se realiza un ensamble de los mismos."
   ]
  },
  {
   "cell_type": "code",
   "execution_count": 1,
   "metadata": {},
   "outputs": [],
   "source": [
    "import pandas as pd\n",
    "import matplotlib.pyplot as plt\n",
    "import seaborn as sns\n",
    "import numpy as np\n",
    "import xgboost as xgb\n",
    "import warnings\n",
    "\n",
    "from sklearn.naive_bayes import MultinomialNB\n",
    "from sklearn.ensemble import RandomForestClassifier\n",
    "from sklearn.model_selection import train_test_split\n",
    "from sklearn.feature_extraction.text import CountVectorizer, TfidfVectorizer\n",
    "from sklearn.pipeline import make_pipeline\n",
    "from sklearn.metrics import confusion_matrix, accuracy_score, f1_score, precision_score, recall_score, make_scorer\n",
    "from sklearn.model_selection import StratifiedKFold, GridSearchCV\n",
    "from sklearn.pipeline import Pipeline\n",
    "from sklearn.metrics import classification_report\n",
    "from sklearn.ensemble import VotingClassifier\n",
    "\n",
    "warnings.filterwarnings('ignore', 'is_sparse is deprecated')"
   ]
  },
  {
   "cell_type": "code",
   "execution_count": 2,
   "metadata": {},
   "outputs": [],
   "source": [
    "reviews = pd.read_csv('train_clean.csv')"
   ]
  },
  {
   "attachments": {},
   "cell_type": "markdown",
   "metadata": {},
   "source": [
    "## Entrenamiento de los modelos con los hiperparámetros óptimos"
   ]
  },
  {
   "cell_type": "code",
   "execution_count": 3,
   "metadata": {},
   "outputs": [],
   "source": [
    "# Se transforma sentimiento de variable categórica a booleana\n",
    "reviews['sentimiento'] = reviews['sentimiento'].replace({'positivo': 1})\n",
    "reviews['sentimiento'] = reviews['sentimiento'].replace({'negativo': 0})\n",
    "\n",
    "# Dividir los datos en conjuntos de entrenamiento y prueba\n",
    "x_train, x_test, y_train, y_test = train_test_split(\n",
    "    reviews['review_es'], reviews['sentimiento'], test_size=0.3, random_state=42)\n",
    "\n",
    "# Se crea una matriz de términos de documento utilizando CountVectorizer\n",
    "vectorizer = TfidfVectorizer(ngram_range = (1,2),\n",
    "                             max_features= 100000)\n",
    "x_train_counts = vectorizer.fit_transform(x_train)\n",
    "x_test_counts = vectorizer.transform(x_test)"
   ]
  },
  {
   "cell_type": "markdown",
   "metadata": {},
   "source": [
    "### Bayes Naive"
   ]
  },
  {
   "cell_type": "code",
   "execution_count": 4,
   "metadata": {},
   "outputs": [
    {
     "name": "stdout",
     "output_type": "stream",
     "text": [
      "F1 score:  0.8594717965438539\n"
     ]
    }
   ],
   "source": [
    "model_bn = MultinomialNB(alpha=0.1)\n",
    "\n",
    "model_bn.fit(x_train_counts, y_train)\n",
    "y_test_pred = model_bn.predict(x_test_counts)\n",
    "print(\"F1 score: \", f1_score(y_test, y_test_pred))"
   ]
  },
  {
   "cell_type": "markdown",
   "metadata": {},
   "source": [
    "### Random Forest"
   ]
  },
  {
   "cell_type": "code",
   "execution_count": 5,
   "metadata": {},
   "outputs": [
    {
     "name": "stdout",
     "output_type": "stream",
     "text": [
      "F1 score:  0.826020212357682\n"
     ]
    }
   ],
   "source": [
    "model_rf = RandomForestClassifier( \n",
    "    max_features='sqrt',\n",
    "    oob_score=True,\n",
    "    criterion='entropy',\n",
    "    min_samples_leaf=1,\n",
    "    min_samples_split=10,\n",
    "    n_estimators=300,\n",
    "    max_depth=12,\n",
    "    ccp_alpha=0.001,\n",
    "    random_state=42,\n",
    "    n_jobs=-1\n",
    ")\n",
    "\n",
    "model_rf.fit(x_train_counts, y_train)\n",
    "y_test_pred = model_rf.predict(x_test_counts)\n",
    "print(\"F1 score: \", f1_score(y_test, y_test_pred))"
   ]
  },
  {
   "cell_type": "markdown",
   "metadata": {},
   "source": [
    "### XGBoost"
   ]
  },
  {
   "cell_type": "code",
   "execution_count": 6,
   "metadata": {},
   "outputs": [
    {
     "name": "stdout",
     "output_type": "stream",
     "text": [
      "F1 score:  0.8471958641450167\n"
     ]
    }
   ],
   "source": [
    "model_xgb = xgb.XGBClassifier(\n",
    "    colsample_bytree=1,\n",
    "    learning_rate=0.4,\n",
    "    max_depth=6,\n",
    "    n_estimators=200, \n",
    "    subsample=1,\n",
    "    random_state=42,\n",
    "    n_jobs=-1\n",
    ")\n",
    "\n",
    "model_xgb.fit(x_train_counts, y_train)\n",
    "y_test_pred = model_xgb.predict(x_test_counts)\n",
    "print(\"F1 score: \", f1_score(y_test, y_test_pred))"
   ]
  },
  {
   "cell_type": "markdown",
   "metadata": {},
   "source": [
    "## Ensamble con los 3 modelos anteriores"
   ]
  },
  {
   "cell_type": "code",
   "execution_count": 7,
   "metadata": {},
   "outputs": [
    {
     "name": "stdout",
     "output_type": "stream",
     "text": [
      "F1 score:  0.859082094376212\n"
     ]
    }
   ],
   "source": [
    "model_voting = VotingClassifier(\n",
    "    estimators=[\n",
    "        ('bn', model_bn),\n",
    "        ('rf', model_rf),\n",
    "        ('xgb', model_xgb)\n",
    "    ],\n",
    "    n_jobs = -1)\n",
    "\n",
    "model_voting.fit(x_train_counts,y_train)\n",
    "y_test_pred = model_voting.predict(x_test_counts)\n",
    "print(\"F1 score: \", f1_score(y_test, y_test_pred))"
   ]
  },
  {
   "cell_type": "markdown",
   "metadata": {},
   "source": [
    "## Análisis del mejor modelo obtenido"
   ]
  },
  {
   "cell_type": "code",
   "execution_count": 8,
   "metadata": {},
   "outputs": [],
   "source": [
    "# Transformar los datos de prueba y hacer predicciones\n",
    "x_test_counts = vectorizer.transform(x_test)\n",
    "\n",
    "y_train_pred = model_voting.predict(x_train_counts)\n",
    "y_test_pred = model_voting.predict(x_test_counts)"
   ]
  },
  {
   "cell_type": "code",
   "execution_count": 9,
   "metadata": {},
   "outputs": [
    {
     "name": "stdout",
     "output_type": "stream",
     "text": [
      "Matriz de confusión de los datos de prueba\n"
     ]
    },
    {
     "data": {
      "image/png": "[encoded data removed]",
      "text/plain": [
       "<Figure size 640x480 with 2 Axes>"
      ]
     },
     "metadata": {},
     "output_type": "display_data"
    }
   ],
   "source": [
    "print(\"Matriz de confusión de los datos de prueba\")\n",
    "cm = confusion_matrix(y_test, y_test_pred)\n",
    "sns.heatmap(cm, cmap='Blues',annot=True,fmt='g')\n",
    "plt.xlabel('Predicted')\n",
    "plt.ylabel('True');"
   ]
  },
  {
   "cell_type": "code",
   "execution_count": 10,
   "metadata": {},
   "outputs": [
    {
     "name": "stdout",
     "output_type": "stream",
     "text": [
      "Cálculo de las métricas en el conjunto de entrenamiento\n",
      "Accuracy:  0.937\n",
      "Recall:  0.95\n",
      "Precision:  0.925\n",
      "F1 score:  0.937\n",
      "              precision    recall  f1-score   support\n",
      "\n",
      "           0       0.95      0.92      0.94     17589\n",
      "           1       0.92      0.95      0.94     17411\n",
      "\n",
      "    accuracy                           0.94     35000\n",
      "   macro avg       0.94      0.94      0.94     35000\n",
      "weighted avg       0.94      0.94      0.94     35000\n",
      "\n"
     ]
    }
   ],
   "source": [
    "accuracy=accuracy_score(y_train, y_train_pred)\n",
    "recall=recall_score(y_train, y_train_pred)\n",
    "f1=f1_score(y_train, y_train_pred)\n",
    "precision=precision_score(y_train, y_train_pred)\n",
    "\n",
    "print(\"Cálculo de las métricas en el conjunto de entrenamiento\")\n",
    "print(\"Accuracy: \", round(accuracy, 3))\n",
    "print(\"Recall: \", round(recall, 3))\n",
    "print(\"Precision: \", round(precision, 3))\n",
    "print(\"F1 score: \", round(f1, 3))\n",
    "\n",
    "print(classification_report(y_train, y_train_pred))"
   ]
  },
  {
   "cell_type": "code",
   "execution_count": 11,
   "metadata": {},
   "outputs": [
    {
     "name": "stdout",
     "output_type": "stream",
     "text": [
      "Cálculo de las métricas en el conjunto de pruebas\n",
      "Accuracy:  0.855\n",
      "Recall:  0.876\n",
      "Precision:  0.843\n",
      "F1 score:  0.859\n",
      "              precision    recall  f1-score   support\n",
      "\n",
      "           0       0.87      0.83      0.85      7411\n",
      "           1       0.84      0.88      0.86      7589\n",
      "\n",
      "    accuracy                           0.85     15000\n",
      "   macro avg       0.86      0.85      0.85     15000\n",
      "weighted avg       0.86      0.85      0.85     15000\n",
      "\n"
     ]
    }
   ],
   "source": [
    "accuracy=accuracy_score(y_test,y_test_pred)\n",
    "recall=recall_score(y_test,y_test_pred)\n",
    "f1=f1_score(y_test,y_test_pred)\n",
    "precision=precision_score(y_test, y_test_pred)\n",
    "\n",
    "print(\"Cálculo de las métricas en el conjunto de pruebas\")\n",
    "print(\"Accuracy: \", round(accuracy, 3))\n",
    "print(\"Recall: \", round(recall, 3))\n",
    "print(\"Precision: \", round(precision, 3))\n",
    "print(\"F1 score: \", round(f1, 3))\n",
    "\n",
    "print(classification_report(y_test, y_test_pred))"
   ]
  },
  {
   "attachments": {},
   "cell_type": "markdown",
   "metadata": {},
   "source": [
    "## Predicción del conjunto test"
   ]
  },
  {
   "cell_type": "code",
   "execution_count": 12,
   "metadata": {},
   "outputs": [],
   "source": [
    "test_df = pd.read_csv('test_clean.csv')\n",
    "\n",
    "#Transformo todas las letras a minúscula\n",
    "test_df['review_es'] = test_df['review_es'].str.lower()\n",
    "\n",
    "x_test_counts = vectorizer.transform(test_df['review_es'])\n",
    "y_pred_test = model_voting.predict(x_test_counts)\n",
    "\n",
    "test_df['sentimiento'] = y_pred_test\n",
    "test_df['sentimiento'] = test_df['sentimiento'].apply(lambda x: 'positivo' if x == 1 else 'negativo')\n",
    "\n",
    "test_df.drop(\"review_es\", axis=1, inplace=True)\n",
    "test_df.to_csv('sample_solution.csv', index=False)"
   ]
  }
 ],
 "metadata": {
  "kernelspec": {
   "display_name": "Python 3",
   "language": "python",
   "name": "python3"
  },
  "language_info": {
   "codemirror_mode": {
    "name": "ipython",
    "version": 3
   },
   "file_extension": ".py",
   "mimetype": "text/x-python",
   "name": "python",
   "nbconvert_exporter": "python",
   "pygments_lexer": "ipython3",
   "version": "3.11.5"
  }
 },
 "nbformat": 4,
 "nbformat_minor": 2
}
