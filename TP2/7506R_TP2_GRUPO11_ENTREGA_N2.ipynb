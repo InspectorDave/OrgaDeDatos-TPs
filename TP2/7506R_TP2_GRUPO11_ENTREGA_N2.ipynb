{
 "cells": [
  {
   "attachments": {},
   "cell_type": "markdown",
   "metadata": {},
   "source": [
    "<p align=\"center\">\n",
    "  <img src=\"https://i.ytimg.com/vi/Wm8ftqDZUVk/maxresdefault.jpg\" alt=\"FIUBA\" width=\"25%\"/>\n",
    "  </p>\n",
    "  \n",
    "# **Trabajo Práctico 2: Críticas Cinematográficas**\n",
    "### **Grupo**: 11 - Los Pandas 🐼\n",
    "### **Cuatrimestre**: 2ºC 2023\n",
    "### **Corrector**: Mateo Suster\n",
    "### **Integrantes**:\n",
    "- ### 106861 - Labollita, Francisco\n",
    "- ### 102312 - Mundani Vegega, Ezequiel\n",
    "- ###  97263 - Otegui, Matías Iñaki"
   ]
  },
  {
   "attachments": {},
   "cell_type": "markdown",
   "metadata": {},
   "source": [
    "# Modelo Random Forest"
   ]
  },
  {
   "cell_type": "code",
   "execution_count": 2,
   "metadata": {},
   "outputs": [],
   "source": [
    "import pandas as pd\n",
    "import matplotlib.pyplot as plt\n",
    "import seaborn as sns\n",
    "import numpy as np\n",
    "\n",
    "from sklearn.model_selection import train_test_split\n",
    "from sklearn.feature_extraction.text import CountVectorizer\n",
    "from sklearn.ensemble import RandomForestClassifier\n",
    "from sklearn.metrics import confusion_matrix, accuracy_score, f1_score, precision_score, recall_score, make_scorer, classification_report\n",
    "from sklearn.model_selection import GridSearchCV, StratifiedKFold\n",
    "from sklearn.pipeline import Pipeline"
   ]
  },
  {
   "cell_type": "code",
   "execution_count": 3,
   "metadata": {},
   "outputs": [],
   "source": [
    "reviews = pd.read_csv('train.csv')"
   ]
  },
  {
   "attachments": {},
   "cell_type": "markdown",
   "metadata": {},
   "source": [
    "## Se entrena un módelo posible de Random Forest"
   ]
  },
  {
   "cell_type": "code",
   "execution_count": 46,
   "metadata": {},
   "outputs": [],
   "source": [
    "x_train, x_test, y_train, y_test = train_test_split(reviews['review_es'], reviews['sentimiento'], test_size=0.3, random_state=1)"
   ]
  },
  {
   "cell_type": "code",
   "execution_count": 47,
   "metadata": {},
   "outputs": [],
   "source": [
    "model = Pipeline([\n",
    "    ('vect', CountVectorizer()),\n",
    "    ('clf', RandomForestClassifier(max_features='sqrt',\n",
    "                                   oob_score=True,\n",
    "                                   random_state=1,\n",
    "                                   n_jobs=-1,\n",
    "                                   min_samples_leaf=1,\n",
    "                                   min_samples_split=10,\n",
    "                                   criterion='entropy',\n",
    "                                   n_estimators=50,\n",
    "                                   ccp_alpha=0.01,\n",
    "                                   max_depth=8))\n",
    "])\n",
    "\n",
    "\n",
    "model.fit(x_train, y_train)\n",
    "y_test_pred = model.predict(x_test)\n",
    "y_train_pred = model.predict(x_train)"
   ]
  },
  {
   "cell_type": "code",
   "execution_count": 48,
   "metadata": {},
   "outputs": [
    {
     "name": "stdout",
     "output_type": "stream",
     "text": [
      "Matriz de confusión de los datos de prueba\n"
     ]
    },
    {
     "data": {
      "text/plain": [
       "Text(50.722222222222214, 0.5, 'True')"
      ]
     },
     "execution_count": 48,
     "metadata": {},
     "output_type": "execute_result"
    },
    {
     "data": {
      "image/png": "[encoded data removed]",
      "text/plain": [
       "<Figure size 640x480 with 2 Axes>"
      ]
     },
     "metadata": {},
     "output_type": "display_data"
    }
   ],
   "source": [
    "tabla = confusion_matrix(y_test, y_test_pred)\n",
    "print(\"Matriz de confusión de los datos de prueba\")\n",
    "sns.heatmap(tabla, cmap='GnBu', annot=True, fmt='g')\n",
    "plt.xlabel('Predicted')\n",
    "plt.ylabel('True')"
   ]
  },
  {
   "cell_type": "code",
   "execution_count": 49,
   "metadata": {},
   "outputs": [
    {
     "name": "stdout",
     "output_type": "stream",
     "text": [
      "Cálculo de las métricas en el conjunto de entrenamiento\n",
      "Accuracy:  0.603\n",
      "Recall:  0.662\n",
      "Precision:  0.592\n",
      "F1 score:  0.625\n",
      "              precision    recall  f1-score   support\n",
      "\n",
      "    negativo       0.62      0.54      0.58     17479\n",
      "    positivo       0.59      0.66      0.63     17521\n",
      "\n",
      "    accuracy                           0.60     35000\n",
      "   macro avg       0.60      0.60      0.60     35000\n",
      "weighted avg       0.60      0.60      0.60     35000\n",
      "\n"
     ]
    }
   ],
   "source": [
    "accuracy = accuracy_score(y_train, y_train_pred)\n",
    "recall = recall_score(y_train, y_train_pred, pos_label='positivo')\n",
    "f1 = f1_score(y_train, y_train_pred, pos_label='positivo')\n",
    "precision = precision_score(y_train, y_train_pred, pos_label='positivo')\n",
    "\n",
    "print(\"Cálculo de las métricas en el conjunto de entrenamiento\")\n",
    "print(\"Accuracy: \", round(accuracy, 3))\n",
    "print(\"Recall: \", round(recall, 3))\n",
    "print(\"Precision: \", round(precision, 3))\n",
    "print(\"F1 score: \", round(f1, 3))\n",
    "\n",
    "print(classification_report(y_train, y_train_pred))"
   ]
  },
  {
   "cell_type": "code",
   "execution_count": 50,
   "metadata": {},
   "outputs": [
    {
     "name": "stdout",
     "output_type": "stream",
     "text": [
      "Cálculo de las métricas en el conjunto de pruebas\n",
      "Accuracy: 0.605\n",
      "Recall: 0.67\n",
      "Precision: 0.591\n",
      "F1 Score: 0.628\n",
      "              precision    recall  f1-score   support\n",
      "\n",
      "    negativo       0.62      0.54      0.58      7521\n",
      "    positivo       0.59      0.67      0.63      7479\n",
      "\n",
      "    accuracy                           0.60     15000\n",
      "   macro avg       0.61      0.60      0.60     15000\n",
      "weighted avg       0.61      0.60      0.60     15000\n",
      "\n"
     ]
    }
   ],
   "source": [
    "accuracy = accuracy_score(y_test, y_test_pred)\n",
    "recall = recall_score(y_test, y_test_pred, pos_label='positivo')\n",
    "precision = precision_score(y_test, y_test_pred, pos_label='positivo')\n",
    "f1 = f1_score(y_test, y_test_pred, pos_label='positivo')\n",
    "\n",
    "print(\"Cálculo de las métricas en el conjunto de pruebas\")\n",
    "print(\"Accuracy: \"+str(round(accuracy, 3)))\n",
    "print(\"Recall: \"+str(round(recall,3)))\n",
    "print(\"Precision: \"+str(round(precision,3)))\n",
    "print(\"F1 Score: \"+str(round(f1,3)))\n",
    "\n",
    "print(classification_report(y_test, y_test_pred))"
   ]
  },
  {
   "attachments": {},
   "cell_type": "markdown",
   "metadata": {},
   "source": [
    "## Se buscan los hiperparámetros con GridSearch CV\n",
    "\n",
    "Se realizó una busqueda de los mejores parámetros con el método GridSearchCV proporcionando varios parámetros posibles basados en lo estudiado en las clases prácticas.\n",
    "\n",
    "Se obtuvo que los mejores hiperparámetros (utilizando el F1 score como métrica) para este caso son:\n",
    "\n",
    "- *min_samples_leaf* = $1$\n",
    "- Criterio = entropy\n",
    "- *min_samples_split* = 10\n",
    "- *n_estimators* = 300\n",
    "- *max_depth* = 12\n",
    "- *ccp_alpha* = 0.001\n",
    "\n",
    "Logrando un F1 score de 0.817, mayor en comparación al primer árbol obtenido que fue de 0.628 en el conjunto test."
   ]
  },
  {
   "cell_type": "code",
   "execution_count": 34,
   "metadata": {},
   "outputs": [],
   "source": [
    "x_train, x_test, y_train, y_test = train_test_split(reviews['review_es'], reviews['sentimiento'], test_size=0.3, random_state=1)"
   ]
  },
  {
   "cell_type": "code",
   "execution_count": 35,
   "metadata": {},
   "outputs": [
    {
     "name": "stdout",
     "output_type": "stream",
     "text": [
      "Parámetros: {'clf__ccp_alpha': 0.001, 'clf__criterion': 'entropy', 'clf__max_depth': 12, 'clf__min_samples_leaf': 1, 'clf__min_samples_split': 10, 'clf__n_estimators': 300} \n",
      "F1 score:  0.817\n"
     ]
    }
   ],
   "source": [
    "model = Pipeline([\n",
    "    ('vect', CountVectorizer()),\n",
    "    ('clf', RandomForestClassifier(max_features='sqrt',\n",
    "     oob_score=True, random_state=1, n_jobs=-1))\n",
    "])\n",
    "\n",
    "params_grid = {\n",
    "    \"clf__criterion\": [\"gini\", \"entropy\"],\n",
    "    \"clf__min_samples_leaf\": [1, 5],\n",
    "    \"clf__min_samples_split\": [8, 10, 12],\n",
    "    \"clf__n_estimators\": [100, 200, 300],\n",
    "    \"clf__max_depth\": [8, 10, 12],\n",
    "    \"clf__ccp_alpha\": [0.001, 0.01, 0.1]\n",
    "}\n",
    "\n",
    "scorer_fn = make_scorer(f1_score, pos_label='positivo')\n",
    "kfoldcv = StratifiedKFold(n_splits=5)\n",
    "\n",
    "gridcv = GridSearchCV(estimator=model,\n",
    "                      param_grid=params_grid,\n",
    "                      scoring=scorer_fn,\n",
    "                      cv=kfoldcv\n",
    "                      )\n",
    "\n",
    "model = gridcv.fit(x_train, y_train)\n",
    "\n",
    "y_pred = model.predict(x_test)\n",
    "score = f1_score(y_test, y_pred, pos_label='positivo')\n",
    "print(\"Parámetros:\", gridcv.best_params_, \"\\nF1 score: \", round(score, 3))"
   ]
  },
  {
   "cell_type": "code",
   "execution_count": 41,
   "metadata": {},
   "outputs": [],
   "source": [
    "model = Pipeline([\n",
    "    ('vect', CountVectorizer()),\n",
    "    ('clf', RandomForestClassifier(max_features='sqrt',\n",
    "                                   oob_score=True,\n",
    "                                   random_state=1,\n",
    "                                   n_jobs=-1,\n",
    "                                   criterion='entropy',\n",
    "                                   min_samples_leaf=1,\n",
    "                                   min_samples_split=10,\n",
    "                                   n_estimators=300,\n",
    "                                   max_depth=12,\n",
    "                                   ccp_alpha=0.001))\n",
    "])\n",
    "\n",
    "model.fit(x_train, y_train)\n",
    "y_test_pred = model.predict(x_test)\n",
    "y_train_pred = model.predict(x_train)"
   ]
  },
  {
   "cell_type": "code",
   "execution_count": 42,
   "metadata": {},
   "outputs": [
    {
     "name": "stdout",
     "output_type": "stream",
     "text": [
      "Matriz de confusión de los datos de prueba\n"
     ]
    },
    {
     "data": {
      "text/plain": [
       "Text(50.722222222222214, 0.5, 'True')"
      ]
     },
     "execution_count": 42,
     "metadata": {},
     "output_type": "execute_result"
    },
    {
     "data": {
      "image/png": "[encoded data removed]",
      "text/plain": [
       "<Figure size 640x480 with 2 Axes>"
      ]
     },
     "metadata": {},
     "output_type": "display_data"
    }
   ],
   "source": [
    "print(\"Matriz de confusión de los datos de prueba\")\n",
    "cm = confusion_matrix(y_test, y_test_pred)\n",
    "sns.heatmap(cm, cmap='Blues', annot=True, fmt='g')\n",
    "plt.xlabel('Predicted')\n",
    "plt.ylabel('True')"
   ]
  },
  {
   "cell_type": "code",
   "execution_count": 43,
   "metadata": {},
   "outputs": [
    {
     "name": "stdout",
     "output_type": "stream",
     "text": [
      "Cálculo de las métricas en el conjunto de entrenamiento\n",
      "Accuracy:  0.814\n",
      "Recall:  0.866\n",
      "Precision:  0.785\n",
      "F1 score:  0.824\n",
      "              precision    recall  f1-score   support\n",
      "\n",
      "    negativo       0.85      0.76      0.80     17479\n",
      "    positivo       0.78      0.87      0.82     17521\n",
      "\n",
      "    accuracy                           0.81     35000\n",
      "   macro avg       0.82      0.81      0.81     35000\n",
      "weighted avg       0.82      0.81      0.81     35000\n",
      "\n"
     ]
    }
   ],
   "source": [
    "accuracy = accuracy_score(y_train, y_train_pred)\n",
    "recall = recall_score(y_train, y_train_pred, pos_label='positivo')\n",
    "f1 = f1_score(y_train, y_train_pred, pos_label='positivo')\n",
    "precision = precision_score(y_train, y_train_pred, pos_label='positivo')\n",
    "\n",
    "print(\"Cálculo de las métricas en el conjunto de entrenamiento\")\n",
    "print(\"Accuracy: \", round(accuracy, 3))\n",
    "print(\"Recall: \", round(recall, 3))\n",
    "print(\"Precision: \", round(precision, 3))\n",
    "print(\"F1 score: \", round(f1, 3))\n",
    "\n",
    "print(classification_report(y_train, y_train_pred))"
   ]
  },
  {
   "cell_type": "code",
   "execution_count": 44,
   "metadata": {},
   "outputs": [
    {
     "name": "stdout",
     "output_type": "stream",
     "text": [
      "Cálculo de las métricas en el conjunto de pruebas\n",
      "Accuracy: 0.807\n",
      "Recall: 0.866\n",
      "Precision: 0.773\n",
      "F1 Score: 0.817\n",
      "              precision    recall  f1-score   support\n",
      "\n",
      "    negativo       0.85      0.75      0.80      7521\n",
      "    positivo       0.77      0.87      0.82      7479\n",
      "\n",
      "    accuracy                           0.81     15000\n",
      "   macro avg       0.81      0.81      0.81     15000\n",
      "weighted avg       0.81      0.81      0.81     15000\n",
      "\n"
     ]
    }
   ],
   "source": [
    "accuracy = accuracy_score(y_test, y_test_pred)\n",
    "recall = recall_score(y_test, y_test_pred, pos_label='positivo')\n",
    "precision = precision_score(y_test, y_test_pred, pos_label='positivo')\n",
    "f1 = f1_score(y_test, y_test_pred, pos_label='positivo')\n",
    "\n",
    "print(\"Cálculo de las métricas en el conjunto de pruebas\")\n",
    "print(\"Accuracy: \"+str(round(accuracy, 3)))\n",
    "print(\"Recall: \"+str(round(recall, 3)))\n",
    "print(\"Precision: \"+str(round(precision, 3)))\n",
    "print(\"F1 Score: \"+str(round(f1, 3)))\n",
    "\n",
    "print(classification_report(y_test, y_test_pred))"
   ]
  },
  {
   "attachments": {},
   "cell_type": "markdown",
   "metadata": {},
   "source": [
    "## Predicción del conjunto test"
   ]
  },
  {
   "cell_type": "code",
   "execution_count": 45,
   "metadata": {},
   "outputs": [],
   "source": [
    "test_df = pd.read_csv('test.csv')\n",
    "\n",
    "y_pred_test = model.predict(test_df['review_es'])\n",
    "\n",
    "test_df['sentimiento'] = y_pred_test\n",
    "\n",
    "test_df.drop(\"review_es\", axis=1, inplace=True)\n",
    "test_df.to_csv('sample_solution.csv', index=False)"
   ]
  }
 ],
 "metadata": {
  "kernelspec": {
   "display_name": "Python 3",
   "language": "python",
   "name": "python3"
  },
  "language_info": {
   "codemirror_mode": {
    "name": "ipython",
    "version": 3
   },
   "file_extension": ".py",
   "mimetype": "text/x-python",
   "name": "python",
   "nbconvert_exporter": "python",
   "pygments_lexer": "ipython3",
   "version": "3.11.5"
  }
 },
 "nbformat": 4,
 "nbformat_minor": 2
}
