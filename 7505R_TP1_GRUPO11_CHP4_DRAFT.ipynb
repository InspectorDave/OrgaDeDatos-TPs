{
 "cells": [
  {
   "cell_type": "markdown",
   "metadata": {},
   "source": [
    "<p align=\"center\">\n",
    "  <img src=\"https://i.ytimg.com/vi/Wm8ftqDZUVk/maxresdefault.jpg\" alt=\"FIUBA\" width=\"33%\"/>\n",
    "  </p>\n",
    "  \n",
    "# **Trabajo Práctico 1: Reservas de Hotel**\n",
    "### **Checkpoint**: 4\n",
    "### **Grupo**: 11 - Los Pandas\n",
    "### **Cuatrimestre**: 2ºC 2023\n",
    "### **Corrector**: Mateo\n",
    "### **Integrantes**:\n",
    "### 103456 - Labollita, Francisco\n",
    "### 102312 - Mundani Vegega, Ezequiel\n",
    "###  97263 - Otegui, Matías Iñaki"
   ]
  },
  {
   "cell_type": "markdown",
   "metadata": {},
   "source": [
    "### Carga inicial de dependencias y datos"
   ]
  },
  {
   "cell_type": "code",
   "execution_count": 157,
   "metadata": {},
   "outputs": [],
   "source": [
    "import numpy as np\n",
    "from scipy import stats\n",
    "import pandas as pd\n",
    "from IPython.display import display\n",
    "import matplotlib.pyplot as plt\n",
    "import seaborn as sns\n",
    "import datetime\n",
    "import calendar\n",
    "#import dtreeviz\n",
    "import warnings\n",
    "\n",
    "#modelos y métricas\n",
    "from sklearn import tree\n",
    "from sklearn.model_selection import train_test_split\n",
    "from sklearn.metrics import precision_score, recall_score, accuracy_score,f1_score#, precision_recall_curve, roc_curve,\n",
    "from sklearn.metrics import confusion_matrix, classification_report\n",
    "\n",
    "#preprocesamiento\n",
    "from sklearn.preprocessing import StandardScaler, MinMaxScaler\n",
    "\n",
    "##KFOLD CV Random Search para buscar el mejor arbol (los mejores atributos, hiperparametros,etc)\n",
    "from sklearn.model_selection import StratifiedKFold, KFold,RandomizedSearchCV\n",
    "from sklearn.tree import DecisionTreeClassifier\n",
    "from sklearn.metrics import make_scorer, f1_score\n",
    "from sklearn.model_selection import GridSearchCV\n",
    "from sklearn.svm import SVC\n",
    "\n",
    "#Import Keras and Tensor\n",
    "import tensorflow as tf\n",
    "from tensorflow import keras\n",
    "\n",
    "warnings.filterwarnings('ignore', 'is_categorical_dtype is deprecated')\n",
    "warnings.filterwarnings(\"ignore\", \"use_inf_as_na\")"
   ]
  },
  {
   "cell_type": "markdown",
   "metadata": {},
   "source": [
    "## Limpieza del dataset"
   ]
  },
  {
   "cell_type": "code",
   "execution_count": 158,
   "metadata": {},
   "outputs": [],
   "source": [
    "hotels_df = pd.read_csv('hotels_train.csv')\n",
    "hotels_df_backup = hotels_df.copy()\n",
    "\n",
    "#Eliminación de columnas irrelevantes\n",
    "hotels_df_mod = hotels_df.drop(['arrival_date_year', 'arrival_date_day_of_month', 'stays_in_weekend_nights', 'stays_in_week_nights', 'children', 'company', 'adr', 'id'], axis=1)\n",
    "\n",
    "#Eliminación de filas con valores nulos\n",
    "hotels_df_mod = hotels_df_mod.dropna(subset=['country', 'distribution_channel', 'market_segment'])\n",
    "\n",
    "#Eliminación de filas con outliers\n",
    "hotels_df_mod = hotels_df_mod.drop(hotels_df_mod[hotels_df_mod['adults'] > 4].index)\n",
    "\n",
    "#Agent sin definir es un valor válido, por lo que se reemplaza por Undefined\n",
    "hotels_df_mod['agent'] = hotels_df_mod['agent'].astype(str)\n",
    "hotels_df_mod['agent'] = hotels_df_mod['agent'].replace('nan', 'Undefined')\n",
    "\n",
    "#Se crea la columna que dice si se asignó la habitación pedida\n",
    "hotels_df_mod = hotels_df_mod.rename(columns={'reserved_room_type': 'room_type_match'})\n",
    "\n",
    "hotels_df_mod.loc[hotels_df_mod['room_type_match'] == hotels_df_mod['assigned_room_type'], 'room_type_match'] = True\n",
    "hotels_df_mod.loc[hotels_df_mod['room_type_match'] != hotels_df_mod['assigned_room_type'], 'room_type_match'] = False\n",
    "hotels_df_mod['room_type_match'] = hotels_df_mod['room_type_match'].astype(bool)\n",
    "\n",
    "#Se normalizan los valores de las columnas numéricas cuantitativas\n",
    "scaler = MinMaxScaler(feature_range=(0,1))\n",
    "for col in hotels_df_mod.select_dtypes(include=[np.number, \"int64\", \"float64\"]).columns:\n",
    "    hotels_df_mod[col] = scaler.fit_transform(hotels_df_mod[[col]])\n",
    "\n",
    "#One-hot encoding para las columnas categóricas\n",
    "hotels_df_mod = pd.get_dummies(hotels_df_mod, columns=[\"hotel\",\n",
    "    \"arrival_date_month\", \"meal\", \"country\", \"market_segment\", \"distribution_channel\", \"assigned_room_type\",\n",
    "    \"deposit_type\", \"customer_type\", \"agent\", 'room_type_match' ], drop_first=True)\n",
    "\n",
    "hotels_df_mod = hotels_df_mod.reindex(sorted(hotels_df_mod.columns), axis=1)"
   ]
  },
  {
   "cell_type": "code",
   "execution_count": 159,
   "metadata": {},
   "outputs": [],
   "source": [
    "# Find the columns with data type 'bool'\n",
    "bool_columns = hotels_df_mod.select_dtypes(include=['bool'])\n",
    "\n",
    "# Convert the 'bool' columns to 'float64'\n",
    "for column in bool_columns.columns:\n",
    "    hotels_df_mod[column] = hotels_df_mod[column].astype('float64')"
   ]
  },
  {
   "cell_type": "code",
   "execution_count": 160,
   "metadata": {},
   "outputs": [
    {
     "name": "stdout",
     "output_type": "stream",
     "text": [
      "<class 'pandas.core.frame.DataFrame'>\n",
      "Index: 61681 entries, 0 to 61912\n",
      "Columns: 499 entries, adults to total_of_special_requests\n",
      "dtypes: float64(499)\n",
      "memory usage: 235.3 MB\n"
     ]
    }
   ],
   "source": [
    "hotels_df_mod.info()"
   ]
  },
  {
   "cell_type": "markdown",
   "metadata": {},
   "source": [
    "### Empiezo a crear el modelo"
   ]
  },
  {
   "cell_type": "code",
   "execution_count": 161,
   "metadata": {},
   "outputs": [],
   "source": [
    "df_x = hotels_df_mod.drop(['is_canceled'], axis=1)\n",
    "df_y = hotels_df_mod['is_canceled'].copy()\n",
    "\n",
    "x_train, x_test, y_train, y_test = train_test_split(df_x, df_y, train_size= 0.7, test_size=0.30, random_state=2)"
   ]
  },
  {
   "cell_type": "code",
   "execution_count": 162,
   "metadata": {},
   "outputs": [
    {
     "name": "stdout",
     "output_type": "stream",
     "text": [
      "Model: \"sequential_22\"\n"
     ]
    },
    {
     "name": "stdout",
     "output_type": "stream",
     "text": [
      "_________________________________________________________________\n",
      " Layer (type)                Output Shape              Param #   \n",
      "=================================================================\n",
      " dense_66 (Dense)            (None, 8)                 3992      \n",
      "                                                                 \n",
      " dense_67 (Dense)            (None, 8)                 72        \n",
      "                                                                 \n",
      " dense_68 (Dense)            (None, 1)                 9         \n",
      "                                                                 \n",
      "=================================================================\n",
      "Total params: 4073 (15.91 KB)\n",
      "Trainable params: 4073 (15.91 KB)\n",
      "Non-trainable params: 0 (0.00 Byte)\n",
      "_________________________________________________________________\n"
     ]
    }
   ],
   "source": [
    "d_in=len(df_x)\n",
    "# Create a simple feedforward neural network\n",
    "model = keras.Sequential([\n",
    "    keras.layers.Dense(8, activation='relu', input_shape=(498,)),  # Input layer\n",
    "    keras.layers.Dense(8, activation='relu'),  # Hidden layer with 8 units and ReLU activation\n",
    "    keras.layers.Dense(1, activation='sigmoid')  # Output layer with 1 unit and sigmoid activation for binary classification\n",
    "])\n",
    "\n",
    "model.summary()"
   ]
  },
  {
   "cell_type": "code",
   "execution_count": 163,
   "metadata": {},
   "outputs": [
    {
     "name": "stdout",
     "output_type": "stream",
     "text": [
      "Epoch 1/50\n",
      "1080/1080 [==============================] - 1s 650us/step - loss: 0.4640 - accuracy: 0.7701 - auc: 0.8590 - val_loss: 0.4034 - val_accuracy: 0.8066 - val_auc: 0.8949\n",
      "Epoch 2/50\n",
      "1080/1080 [==============================] - 1s 537us/step - loss: 0.3827 - accuracy: 0.8128 - auc: 0.9042 - val_loss: 0.3731 - val_accuracy: 0.8108 - val_auc: 0.9100\n",
      "Epoch 3/50\n",
      "1080/1080 [==============================] - 1s 534us/step - loss: 0.3595 - accuracy: 0.8230 - auc: 0.9155 - val_loss: 0.3587 - val_accuracy: 0.8223 - val_auc: 0.9156\n",
      "Epoch 4/50\n",
      "1080/1080 [==============================] - 1s 535us/step - loss: 0.3490 - accuracy: 0.8284 - auc: 0.9204 - val_loss: 0.3546 - val_accuracy: 0.8241 - val_auc: 0.9178\n",
      "Epoch 5/50\n",
      "1080/1080 [==============================] - 1s 536us/step - loss: 0.3432 - accuracy: 0.8324 - auc: 0.9230 - val_loss: 0.3540 - val_accuracy: 0.8228 - val_auc: 0.9197\n",
      "Epoch 6/50\n",
      "1080/1080 [==============================] - 1s 534us/step - loss: 0.3394 - accuracy: 0.8348 - auc: 0.9247 - val_loss: 0.3543 - val_accuracy: 0.8268 - val_auc: 0.9197\n",
      "Epoch 7/50\n",
      "1080/1080 [==============================] - 1s 534us/step - loss: 0.3368 - accuracy: 0.8366 - auc: 0.9258 - val_loss: 0.3457 - val_accuracy: 0.8326 - val_auc: 0.9220\n",
      "Epoch 8/50\n",
      "1080/1080 [==============================] - 1s 534us/step - loss: 0.3332 - accuracy: 0.8376 - auc: 0.9276 - val_loss: 0.3444 - val_accuracy: 0.8335 - val_auc: 0.9229\n",
      "Epoch 9/50\n",
      "1080/1080 [==============================] - 1s 572us/step - loss: 0.3309 - accuracy: 0.8398 - auc: 0.9287 - val_loss: 0.3521 - val_accuracy: 0.8276 - val_auc: 0.9208\n",
      "Epoch 10/50\n",
      "1080/1080 [==============================] - 1s 535us/step - loss: 0.3282 - accuracy: 0.8409 - auc: 0.9299 - val_loss: 0.3442 - val_accuracy: 0.8334 - val_auc: 0.9229\n",
      "Epoch 11/50\n",
      "1080/1080 [==============================] - 1s 534us/step - loss: 0.3262 - accuracy: 0.8413 - auc: 0.9308 - val_loss: 0.3476 - val_accuracy: 0.8283 - val_auc: 0.9234\n",
      "Epoch 12/50\n",
      "1080/1080 [==============================] - 1s 534us/step - loss: 0.3245 - accuracy: 0.8432 - auc: 0.9315 - val_loss: 0.3407 - val_accuracy: 0.8371 - val_auc: 0.9250\n",
      "Epoch 13/50\n",
      "1080/1080 [==============================] - 1s 535us/step - loss: 0.3225 - accuracy: 0.8436 - auc: 0.9325 - val_loss: 0.3425 - val_accuracy: 0.8342 - val_auc: 0.9250\n",
      "Epoch 14/50\n",
      "1080/1080 [==============================] - 1s 537us/step - loss: 0.3215 - accuracy: 0.8457 - auc: 0.9330 - val_loss: 0.3423 - val_accuracy: 0.8333 - val_auc: 0.9250\n",
      "Epoch 15/50\n",
      "1080/1080 [==============================] - 1s 533us/step - loss: 0.3205 - accuracy: 0.8446 - auc: 0.9333 - val_loss: 0.3390 - val_accuracy: 0.8351 - val_auc: 0.9264\n",
      "Epoch 16/50\n",
      "1080/1080 [==============================] - 1s 534us/step - loss: 0.3188 - accuracy: 0.8454 - auc: 0.9340 - val_loss: 0.3394 - val_accuracy: 0.8382 - val_auc: 0.9265\n",
      "Epoch 17/50\n",
      "1080/1080 [==============================] - 1s 535us/step - loss: 0.3188 - accuracy: 0.8464 - auc: 0.9339 - val_loss: 0.3422 - val_accuracy: 0.8346 - val_auc: 0.9263\n",
      "Epoch 18/50\n",
      "1080/1080 [==============================] - 1s 533us/step - loss: 0.3174 - accuracy: 0.8476 - auc: 0.9347 - val_loss: 0.3433 - val_accuracy: 0.8340 - val_auc: 0.9255\n",
      "Epoch 19/50\n",
      "1080/1080 [==============================] - 1s 534us/step - loss: 0.3167 - accuracy: 0.8486 - auc: 0.9351 - val_loss: 0.3404 - val_accuracy: 0.8365 - val_auc: 0.9262\n",
      "Epoch 20/50\n",
      "1080/1080 [==============================] - 1s 534us/step - loss: 0.3156 - accuracy: 0.8473 - auc: 0.9355 - val_loss: 0.3461 - val_accuracy: 0.8343 - val_auc: 0.9254\n",
      "Epoch 21/50\n",
      "1080/1080 [==============================] - 1s 537us/step - loss: 0.3152 - accuracy: 0.8478 - auc: 0.9355 - val_loss: 0.3417 - val_accuracy: 0.8360 - val_auc: 0.9261\n",
      "Epoch 22/50\n",
      "1080/1080 [==============================] - 1s 533us/step - loss: 0.3144 - accuracy: 0.8476 - auc: 0.9359 - val_loss: 0.3494 - val_accuracy: 0.8334 - val_auc: 0.9245\n",
      "Epoch 23/50\n",
      "1080/1080 [==============================] - 1s 553us/step - loss: 0.3139 - accuracy: 0.8487 - auc: 0.9362 - val_loss: 0.3389 - val_accuracy: 0.8396 - val_auc: 0.9272\n",
      "Epoch 24/50\n",
      "1080/1080 [==============================] - 1s 565us/step - loss: 0.3131 - accuracy: 0.8488 - auc: 0.9364 - val_loss: 0.3411 - val_accuracy: 0.8378 - val_auc: 0.9270\n",
      "Epoch 25/50\n",
      "1080/1080 [==============================] - 1s 534us/step - loss: 0.3119 - accuracy: 0.8497 - auc: 0.9370 - val_loss: 0.3464 - val_accuracy: 0.8364 - val_auc: 0.9251\n",
      "Epoch 26/50\n",
      "1080/1080 [==============================] - 1s 534us/step - loss: 0.3113 - accuracy: 0.8489 - auc: 0.9372 - val_loss: 0.3454 - val_accuracy: 0.8335 - val_auc: 0.9265\n",
      "Epoch 27/50\n",
      "1080/1080 [==============================] - 1s 535us/step - loss: 0.3108 - accuracy: 0.8480 - auc: 0.9373 - val_loss: 0.3416 - val_accuracy: 0.8373 - val_auc: 0.9264\n",
      "Epoch 28/50\n",
      "1080/1080 [==============================] - 1s 536us/step - loss: 0.3098 - accuracy: 0.8504 - auc: 0.9379 - val_loss: 0.3458 - val_accuracy: 0.8357 - val_auc: 0.9251\n",
      "Epoch 29/50\n",
      "1080/1080 [==============================] - 1s 534us/step - loss: 0.3091 - accuracy: 0.8512 - auc: 0.9380 - val_loss: 0.3422 - val_accuracy: 0.8380 - val_auc: 0.9267\n",
      "Epoch 30/50\n",
      "1080/1080 [==============================] - 1s 534us/step - loss: 0.3087 - accuracy: 0.8507 - auc: 0.9383 - val_loss: 0.3418 - val_accuracy: 0.8360 - val_auc: 0.9263\n",
      "Epoch 31/50\n",
      "1080/1080 [==============================] - 1s 536us/step - loss: 0.3085 - accuracy: 0.8510 - auc: 0.9383 - val_loss: 0.3465 - val_accuracy: 0.8334 - val_auc: 0.9263\n",
      "Epoch 32/50\n",
      "1080/1080 [==============================] - 1s 533us/step - loss: 0.3082 - accuracy: 0.8510 - auc: 0.9384 - val_loss: 0.3436 - val_accuracy: 0.8363 - val_auc: 0.9269\n",
      "Epoch 33/50\n",
      "1080/1080 [==============================] - 1s 531us/step - loss: 0.3068 - accuracy: 0.8530 - auc: 0.9392 - val_loss: 0.3450 - val_accuracy: 0.8379 - val_auc: 0.9265\n",
      "Epoch 34/50\n",
      "1080/1080 [==============================] - 1s 535us/step - loss: 0.3066 - accuracy: 0.8518 - auc: 0.9392 - val_loss: 0.3461 - val_accuracy: 0.8381 - val_auc: 0.9267\n",
      "Epoch 35/50\n",
      "1080/1080 [==============================] - 1s 533us/step - loss: 0.3054 - accuracy: 0.8522 - auc: 0.9396 - val_loss: 0.3435 - val_accuracy: 0.8362 - val_auc: 0.9262\n",
      "Epoch 36/50\n",
      "1080/1080 [==============================] - 1s 534us/step - loss: 0.3057 - accuracy: 0.8525 - auc: 0.9394 - val_loss: 0.3426 - val_accuracy: 0.8387 - val_auc: 0.9272\n",
      "Epoch 37/50\n",
      "1080/1080 [==============================] - 1s 590us/step - loss: 0.3052 - accuracy: 0.8523 - auc: 0.9396 - val_loss: 0.3423 - val_accuracy: 0.8371 - val_auc: 0.9270\n",
      "Epoch 38/50\n",
      "1080/1080 [==============================] - 1s 552us/step - loss: 0.3048 - accuracy: 0.8536 - auc: 0.9398 - val_loss: 0.3416 - val_accuracy: 0.8359 - val_auc: 0.9274\n",
      "Epoch 39/50\n",
      "1080/1080 [==============================] - 1s 548us/step - loss: 0.3041 - accuracy: 0.8540 - auc: 0.9401 - val_loss: 0.3407 - val_accuracy: 0.8397 - val_auc: 0.9274\n",
      "Epoch 40/50\n",
      "1080/1080 [==============================] - 1s 534us/step - loss: 0.3036 - accuracy: 0.8529 - auc: 0.9403 - val_loss: 0.3427 - val_accuracy: 0.8386 - val_auc: 0.9273\n",
      "Epoch 41/50\n",
      "1080/1080 [==============================] - 1s 534us/step - loss: 0.3034 - accuracy: 0.8535 - auc: 0.9403 - val_loss: 0.3468 - val_accuracy: 0.8319 - val_auc: 0.9273\n",
      "Epoch 42/50\n",
      "1080/1080 [==============================] - 1s 535us/step - loss: 0.3022 - accuracy: 0.8554 - auc: 0.9409 - val_loss: 0.3425 - val_accuracy: 0.8388 - val_auc: 0.9276\n",
      "Epoch 43/50\n",
      "1080/1080 [==============================] - 1s 533us/step - loss: 0.3024 - accuracy: 0.8549 - auc: 0.9407 - val_loss: 0.3456 - val_accuracy: 0.8366 - val_auc: 0.9267\n",
      "Epoch 44/50\n",
      "1080/1080 [==============================] - 1s 536us/step - loss: 0.3019 - accuracy: 0.8546 - auc: 0.9409 - val_loss: 0.3455 - val_accuracy: 0.8363 - val_auc: 0.9267\n",
      "Epoch 45/50\n",
      "1080/1080 [==============================] - 1s 533us/step - loss: 0.3013 - accuracy: 0.8542 - auc: 0.9412 - val_loss: 0.3435 - val_accuracy: 0.8373 - val_auc: 0.9280\n",
      "Epoch 46/50\n",
      "1080/1080 [==============================] - 1s 533us/step - loss: 0.3005 - accuracy: 0.8552 - auc: 0.9415 - val_loss: 0.3458 - val_accuracy: 0.8343 - val_auc: 0.9266\n",
      "Epoch 47/50\n",
      "1080/1080 [==============================] - 1s 538us/step - loss: 0.3002 - accuracy: 0.8556 - auc: 0.9417 - val_loss: 0.3454 - val_accuracy: 0.8366 - val_auc: 0.9266\n",
      "Epoch 48/50\n",
      "1080/1080 [==============================] - 1s 561us/step - loss: 0.3002 - accuracy: 0.8553 - auc: 0.9416 - val_loss: 0.3446 - val_accuracy: 0.8375 - val_auc: 0.9271\n",
      "Epoch 49/50\n",
      "1080/1080 [==============================] - 1s 564us/step - loss: 0.2997 - accuracy: 0.8561 - auc: 0.9419 - val_loss: 0.3467 - val_accuracy: 0.8364 - val_auc: 0.9270\n",
      "Epoch 50/50\n",
      "1080/1080 [==============================] - 1s 532us/step - loss: 0.2994 - accuracy: 0.8557 - auc: 0.9420 - val_loss: 0.3441 - val_accuracy: 0.8372 - val_auc: 0.9274\n",
      "579/579 [==============================] - 0s 353us/step - loss: 0.3436 - accuracy: 0.8394 - auc: 0.9278\n",
      "Test accuracy: 0.8394488096237183\n"
     ]
    }
   ],
   "source": [
    "# Compile the model\n",
    "model.compile(optimizer='adam', loss='binary_crossentropy', metrics=['accuracy', 'AUC'])\n",
    "\n",
    "cant_epochs=50\n",
    "# Train the model\n",
    "history = model.fit(x_train, y_train, epochs=cant_epochs, batch_size=32, validation_split=0.2)\n",
    "\n",
    "# Evaluate the model on the test dataß\n",
    "test_loss, test_accuracy, test_auc = model.evaluate(x_test, y_test)\n",
    "print(f'Test accuracy: {test_accuracy}')"
   ]
  },
  {
   "cell_type": "markdown",
   "metadata": {},
   "source": [
    "### Matriz de Confusion y otras métricas"
   ]
  },
  {
   "cell_type": "code",
   "execution_count": 164,
   "metadata": {},
   "outputs": [
    {
     "name": "stdout",
     "output_type": "stream",
     "text": [
      "1350/1350 [==============================] - 0s 270us/step\n",
      "579/579 [==============================] - 0s 263us/step\n",
      "Matriz de confusión de los datos de prueba\n"
     ]
    },
    {
     "data": {
      "text/plain": [
       "Text(50.722222222222214, 0.5, 'True')"
      ]
     },
     "execution_count": 164,
     "metadata": {},
     "output_type": "execute_result"
    },
    {
     "data": {
      "image/png": "[encoded data removed]",
      "text/plain": [
       "<Figure size 640x480 with 2 Axes>"
      ]
     },
     "metadata": {},
     "output_type": "display_data"
    }
   ],
   "source": [
    "y_train_pred = model.predict(x_train)\n",
    "y_test_pred = model.predict(x_test)\n",
    "\n",
    "binary_predictions_test = (y_test_pred > 0.5).astype(int)\n",
    "binary_predictions_train = (y_train_pred > 0.5).astype(int)\n",
    "\n",
    "print(\"Matriz de confusión de los datos de prueba\")\n",
    "cm = confusion_matrix(y_test, binary_predictions)\n",
    "sns.heatmap(cm, cmap='Blues',annot=True,fmt='g')\n",
    "plt.xlabel('Predicted')\n",
    "plt.ylabel('True')"
   ]
  },
  {
   "cell_type": "code",
   "execution_count": 165,
   "metadata": {},
   "outputs": [
    {
     "name": "stdout",
     "output_type": "stream",
     "text": [
      "F1-Score sobre el set de entrenamiento: 0.855\n",
      "F1-Score sobre el set de prueba: 0.84\n"
     ]
    }
   ],
   "source": [
    "train_score = f1_score(y_train, binary_predictions_train)\n",
    "test_score = f1_score(y_test, binary_predictions_test)\n",
    "\n",
    "print(\"F1-Score sobre el set de entrenamiento:\", round(train_score, 3))\n",
    "print(\"F1-Score sobre el set de prueba:\", round(test_score, 3))"
   ]
  },
  {
   "cell_type": "code",
   "execution_count": 166,
   "metadata": {},
   "outputs": [
    {
     "data": {
      "image/png": "[encoded data removed]",
      "text/plain": [
       "<Figure size 640x480 with 1 Axes>"
      ]
     },
     "metadata": {},
     "output_type": "display_data"
    }
   ],
   "source": [
    "plt.plot(history.history['loss'], color='black', label='Loss')\n",
    "plt.xlabel('Epochs')\n",
    "plt.ylabel('Loss')\n",
    "plt.legend()\n",
    "plt.show()"
   ]
  },
  {
   "cell_type": "code",
   "execution_count": 167,
   "metadata": {},
   "outputs": [
    {
     "data": {
      "image/png": "[encoded data removed]",
      "text/plain": [
       "<Figure size 640x480 with 1 Axes>"
      ]
     },
     "metadata": {},
     "output_type": "display_data"
    }
   ],
   "source": [
    "plt.plot(history.history['auc'], color='orange', label='AUC')\n",
    "plt.xlabel('Epochs')\n",
    "plt.ylabel('AUC')\n",
    "plt.legend()\n",
    "plt.show()"
   ]
  },
  {
   "cell_type": "markdown",
   "metadata": {},
   "source": [
    "## Predicción de hotels_test\n",
    "\n",
    "Se modifica el dataset de test de manera similar al de train, para que el modelo obtenido pueda ser aplicado."
   ]
  },
  {
   "cell_type": "code",
   "execution_count": 168,
   "metadata": {},
   "outputs": [
    {
     "name": "stderr",
     "output_type": "stream",
     "text": [
      "/var/folders/sx/p4bbsw2947l2kjgww8lxntch0000gn/T/ipykernel_2982/3312754589.py:29: PerformanceWarning: DataFrame is highly fragmented.  This is usually the result of calling `frame.insert` many times, which has poor performance.  Consider joining all columns at once using pd.concat(axis=1) instead. To get a de-fragmented frame, use `newframe = frame.copy()`\n",
      "  test_df_mod[col] = False\n",
      "/var/folders/sx/p4bbsw2947l2kjgww8lxntch0000gn/T/ipykernel_2982/3312754589.py:29: PerformanceWarning: DataFrame is highly fragmented.  This is usually the result of calling `frame.insert` many times, which has poor performance.  Consider joining all columns at once using pd.concat(axis=1) instead. To get a de-fragmented frame, use `newframe = frame.copy()`\n",
      "  test_df_mod[col] = False\n",
      "/var/folders/sx/p4bbsw2947l2kjgww8lxntch0000gn/T/ipykernel_2982/3312754589.py:29: PerformanceWarning: DataFrame is highly fragmented.  This is usually the result of calling `frame.insert` many times, which has poor performance.  Consider joining all columns at once using pd.concat(axis=1) instead. To get a de-fragmented frame, use `newframe = frame.copy()`\n",
      "  test_df_mod[col] = False\n"
     ]
    }
   ],
   "source": [
    "test_df = pd.read_csv('hotels_test.csv')\n",
    "test_df_mod = test_df.copy()\n",
    "\n",
    "# renombrar columna del dataframe de reserved_room_type a room_type_match\n",
    "test_df_mod = test_df_mod.rename(columns={'reserved_room_type': 'room_type_match'})\n",
    "\n",
    "test_df_mod.loc[test_df_mod['room_type_match'] == test_df_mod['assigned_room_type'], 'room_type_match'] = True\n",
    "test_df_mod.loc[test_df_mod['room_type_match'] != test_df_mod['assigned_room_type'], 'room_type_match'] = False\n",
    "test_df_mod['room_type_match'] = test_df_mod['room_type_match'].astype(bool)\n",
    "\n",
    "test_df_mod['agent'] = test_df_mod['agent'].astype(str)\n",
    "\n",
    "id_backup = test_df_mod[['id']].copy()\n",
    "\n",
    "test_df_mod = test_df_mod.drop(['arrival_date_year', 'arrival_date_day_of_month', 'stays_in_weekend_nights', 'stays_in_week_nights', 'children', 'company', 'adr', 'id'], axis=1)\n",
    "test_df_mod = test_df_mod.drop(['reservation_status_date'], axis='columns') #Esta es la columna que no debería estar en el dataset de test\n",
    "\n",
    "#Se normalizan los valores de las columnas numéricas cuantitativas\n",
    "scaler = MinMaxScaler(feature_range=(0,1))\n",
    "for col in test_df_mod.select_dtypes(include=[np.number, \"int64\", \"float64\"]).columns:\n",
    "    test_df_mod[col] = scaler.fit_transform(test_df_mod[[col]])\n",
    "\n",
    "#One-hot encoding para las columnas categóricas\n",
    "test_df_mod = pd.get_dummies(test_df_mod, columns=[\"hotel\", \"arrival_date_month\", \"meal\", \"country\", \"market_segment\", \"distribution_channel\", \"assigned_room_type\", \"deposit_type\", \"customer_type\", \"agent\", \"room_type_match\" ], drop_first=True)\n",
    "\n",
    "#Se crean las columnas que están en el df para entrenar pero no en el df a predecir\n",
    "for col in df_x.columns:\n",
    "    if col not in test_df_mod.columns:\n",
    "        test_df_mod[col] = False\n",
    "\n",
    "#Se eliminan las columnas que están en el df para predecir pero no en el df para entrenar\n",
    "for col in test_df_mod.columns:\n",
    "    if col not in df_x.columns:\n",
    "        test_df_mod = test_df_mod.drop(columns=[col])\n",
    "\n",
    "test_df_mod = test_df_mod.reindex(sorted(test_df_mod.columns), axis=1)"
   ]
  },
  {
   "cell_type": "code",
   "execution_count": 169,
   "metadata": {},
   "outputs": [],
   "source": [
    "# Find the columns with data type 'bool'\n",
    "bool_columns = test_df_mod.select_dtypes(include=['bool'])\n",
    "\n",
    "# Convert the 'bool' columns to 'float64'\n",
    "for column in bool_columns.columns:\n",
    "    test_df_mod[column] = test_df_mod[column].astype('float64')"
   ]
  },
  {
   "cell_type": "code",
   "execution_count": 170,
   "metadata": {},
   "outputs": [
    {
     "name": "stdout",
     "output_type": "stream",
     "text": [
      "830/830 [==============================] - 0s 275us/step\n"
     ]
    }
   ],
   "source": [
    "#Se realiza una predicción sobre test utilizando el modelo\n",
    "y_pred = model.predict(test_df_mod)\n",
    "\n",
    "predictions = pd.DataFrame()\n",
    "\n",
    "predictions['id'] = id_backup['id'].values\n",
    "predictions['is_canceled'] = y_pred.astype(int)\n",
    "\n",
    "predictions.to_csv('sample_submission.csv', index=False)"
   ]
  }
 ],
 "metadata": {
  "kernelspec": {
   "display_name": "Python 3",
   "language": "python",
   "name": "python3"
  },
  "language_info": {
   "codemirror_mode": {
    "name": "ipython",
    "version": 3
   },
   "file_extension": ".py",
   "mimetype": "text/x-python",
   "name": "python",
   "nbconvert_exporter": "python",
   "pygments_lexer": "ipython3",
   "version": "3.8.9"
  }
 },
 "nbformat": 4,
 "nbformat_minor": 2
}
