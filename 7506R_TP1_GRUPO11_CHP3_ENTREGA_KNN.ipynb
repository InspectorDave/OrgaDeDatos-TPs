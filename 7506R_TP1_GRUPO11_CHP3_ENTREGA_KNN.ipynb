{
 "cells": [
  {
   "cell_type": "markdown",
   "metadata": {},
   "source": [
    "<p align=\"center\">\n",
    "  <img src=\"https://i.ytimg.com/vi/Wm8ftqDZUVk/maxresdefault.jpg\" alt=\"FIUBA\" width=\"33%\"/>\n",
    "  </p>\n",
    "  \n",
    "# **Trabajo Práctico 1: Reservas de Hotel**\n",
    "### **Checkpoint**: 3\n",
    "### **Grupo**: 11 - Los Pandas\n",
    "### **Cuatrimestre**: 2ºC 2023\n",
    "### **Corrector**: Mateo\n",
    "### **Integrantes**:\n",
    "### 103456 - Labollita, Francisco\n",
    "### 102312 - Mundani Vegega, Ezequiel\n",
    "###  97263 - Otegui, Matías Iñaki"
   ]
  },
  {
   "cell_type": "markdown",
   "metadata": {},
   "source": [
    "# Ensambles: K Nearest Neighbors (KNN)\n",
    "\n",
    "Dado a que se va a entrenar un modelo utilizando KNN, se decidió que las columnas que fueron transformadas a booleanas dejarlas como eran originalmente y a las columnas con valores numéricos normalizarlas. \n",
    "\n",
    "La normalización era algo inútil al entrenar árboles, pero siendo que para las variables categóricas se hace les hace one-hot encoding, la distancia entre los extremos de estas será siempre de 1, mientras que las distancias de algunas columnas numéricas será de hasta 600, prácticamente descartando la información de las otras. De esta manera las distancias entre las diferentes columnas tendrán el mismo peso."
   ]
  },
  {
   "cell_type": "code",
   "execution_count": 54,
   "metadata": {},
   "outputs": [],
   "source": [
    "import numpy as np\n",
    "from scipy import stats\n",
    "import pandas as pd\n",
    "from IPython.display import display\n",
    "import matplotlib.pyplot as plt\n",
    "import seaborn as sns\n",
    "import datetime\n",
    "import calendar\n",
    "import dtreeviz\n",
    "import warnings\n",
    "\n",
    "#modelos y métricas\n",
    "from sklearn import tree\n",
    "from sklearn.model_selection import train_test_split\n",
    "from sklearn.metrics import precision_score, recall_score, accuracy_score,f1_score#, precision_recall_curve, roc_curve,\n",
    "from sklearn.metrics import confusion_matrix, classification_report\n",
    "\n",
    "#preprocesamiento\n",
    "from sklearn.preprocessing import MinMaxScaler\n",
    "\n",
    "##KFOLD CV Random Search para buscar el mejor arbol (los mejores atributos, hiperparametros,etc)\n",
    "from sklearn.model_selection import StratifiedKFold, KFold,RandomizedSearchCV\n",
    "from sklearn.tree import DecisionTreeClassifier\n",
    "from sklearn.metrics import make_scorer, f1_score\n",
    "from sklearn.model_selection import GridSearchCV\n",
    "from sklearn.neighbors import KNeighborsClassifier\n",
    "from sklearn.neighbors import KNeighborsRegressor\n",
    "\n",
    "\n",
    "# Aclaración:\n",
    "# Hay un warning que puede llegar a aparecer que es debido a una actualización interna de Seaborn que será deprecada, para solucionarlo hay que modificar el código de python\n",
    "# directamente (lo cual no es una buena práctica).\n",
    "# La función en concreto se va a seguir utilizando, por lo que no afecta a nuestro código en sí, si no al comportamiento interno de dicha función.\n",
    "# Se propone ignorar dicho warninig, ya que se solucionará en la próxima versión de Python\n",
    "# En el siguiente enlace se puede encontrar más información:\n",
    "# https://github.com/ultralytics/ultralytics/issues/4729\n",
    "# https://github.com/mwaskom/seaborn/issues/3462\n",
    "#\n",
    "# se puede ignorar descomentando las siguientes líneas\n",
    "\n",
    "warnings.filterwarnings('ignore', 'is_categorical_dtype is deprecated')\n",
    "warnings.filterwarnings(\"ignore\", \"use_inf_as_na\")\n",
    "\n",
    "# o bien otra solución (más elegante), es obtener dicha actualización corriendo esta línea:\n",
    "# pip install -U ultralytics"
   ]
  },
  {
   "cell_type": "code",
   "execution_count": 55,
   "metadata": {},
   "outputs": [],
   "source": [
    "hotels_df = pd.read_csv('hotels_train.csv')\n",
    "hotels_df_backup = hotels_df.copy()\n",
    "\n",
    "#Eliminación de columnas irrelevantes\n",
    "hotels_df_mod = hotels_df.drop(['arrival_date_year', 'arrival_date_day_of_month', 'stays_in_weekend_nights', 'stays_in_week_nights', 'children', 'company', 'adr', 'id'], axis=1)\n",
    "\n",
    "#Eliminación de filas con valores nulos\n",
    "hotels_df_mod = hotels_df_mod.dropna(subset=['country', 'distribution_channel', 'market_segment'])\n",
    "\n",
    "#Eliminación de filas con outliers\n",
    "hotels_df_mod = hotels_df_mod.drop(hotels_df_mod[hotels_df_mod['adults'] > 4].index)\n",
    "\n",
    "#Agent sin definir es un valor válido, por lo que se reemplaza por Undefined\n",
    "hotels_df_mod['agent'] = hotels_df_mod['agent'].astype(str)\n",
    "hotels_df_mod['agent'] = hotels_df_mod['agent'].replace('nan', 'Undefined')\n",
    "\n",
    "#Se crea la columna que dice si se asignó la habitación pedida\n",
    "hotels_df_mod = hotels_df_mod.rename(columns={'reserved_room_type': 'room_type_match'})\n",
    "\n",
    "hotels_df_mod.loc[hotels_df_mod['room_type_match'] == hotels_df_mod['assigned_room_type'], 'room_type_match'] = True\n",
    "hotels_df_mod.loc[hotels_df_mod['room_type_match'] != hotels_df_mod['assigned_room_type'], 'room_type_match'] = False\n",
    "hotels_df_mod['room_type_match'] = hotels_df_mod['room_type_match'].astype(bool)\n",
    "\n",
    "#Se normalizan los valores de las columnas numéricas cuantitativas\n",
    "scaler = MinMaxScaler(feature_range=(0,1))\n",
    "for col in hotels_df_mod.select_dtypes(include=[np.number, \"int64\", \"float64\"]).columns:\n",
    "    hotels_df_mod[col] = scaler.fit_transform(hotels_df_mod[[col]])\n",
    "\n",
    "#One-hot encoding para las columnas categóricas\n",
    "hotels_df_mod = pd.get_dummies(hotels_df_mod, columns=[\"hotel\",\n",
    "    \"arrival_date_month\", \"meal\", \"country\", \"market_segment\", \"distribution_channel\", \"assigned_room_type\",\n",
    "    \"deposit_type\", \"customer_type\", \"agent\" ], drop_first=True)\n",
    "\n",
    "hotels_df_mod = hotels_df_mod.reindex(sorted(hotels_df_mod.columns), axis=1)"
   ]
  },
  {
   "cell_type": "code",
   "execution_count": 56,
   "metadata": {},
   "outputs": [
    {
     "name": "stdout",
     "output_type": "stream",
     "text": [
      "Folds: 16 Hiperparametros: {'weights': 'uniform', 'n_neighbors': 56, 'n_jobs': -1, 'metric': 'minkowski'} F1-Score: 0.7982288656916968\n"
     ]
    }
   ],
   "source": [
    "df_y = hotels_df_mod['is_canceled'].copy()\n",
    "df_x = hotels_df_mod.drop(['is_canceled'], axis=1)\n",
    "\n",
    "x_train, x_test, y_train, y_test = train_test_split(df_x, df_y, test_size=0.20, random_state=0)\n",
    "\n",
    "KNN_Classifier = KNeighborsClassifier()\n",
    "\n",
    "params_grid = {'metric':['euclidean','minkowski'],\n",
    "               'n_neighbors': list(range(1, 100, 5)),\n",
    "               'weights':['uniform','distance'],\n",
    "               'n_jobs':[-1],\n",
    "               }\n",
    "\n",
    "folds=16\n",
    "\n",
    "kfoldcv = StratifiedKFold(n_splits=folds)\n",
    "\n",
    "scorer_fn = make_scorer(f1_score)\n",
    "\n",
    "randomcv = RandomizedSearchCV(estimator=KNN_Classifier,\n",
    "                              param_distributions = params_grid,\n",
    "                              scoring=scorer_fn,\n",
    "                              cv=kfoldcv,\n",
    "                              n_iter=1 #va 100\n",
    "                              )\n",
    "\n",
    "\n",
    "model = randomcv.fit(x_train,y_train)\n",
    "\n",
    "print(\"Folds:\",folds, \"Hiperparametros:\",randomcv.best_params_, \"F1-Score:\",randomcv.best_score_)"
   ]
  },
  {
   "cell_type": "code",
   "execution_count": 57,
   "metadata": {},
   "outputs": [
    {
     "name": "stdout",
     "output_type": "stream",
     "text": [
      "Folds: 16 Hiperparametros: {'metric': 'euclidean', 'n_jobs': -1, 'n_neighbors': 5, 'weights': 'distance'} F1-Score: 0.8168630246800171\n"
     ]
    }
   ],
   "source": [
    "df_y = hotels_df_mod['is_canceled'].copy()\n",
    "df_x = hotels_df_mod.drop(['is_canceled'], axis=1)\n",
    "\n",
    "x_train, x_test, y_train, y_test = train_test_split(df_x, df_y, test_size=0.20, random_state=0)\n",
    "\n",
    "KNN_Classifier = KNeighborsClassifier()\n",
    "\n",
    "params_grid = {'metric':['euclidean','minkowski'],\n",
    "               'n_neighbors': [5], #Va list(range(1, 20)),\n",
    "               'weights':['uniform','distance'],\n",
    "               'n_jobs':[-1]}\n",
    "\n",
    "folds=16\n",
    "\n",
    "kfoldcv = StratifiedKFold(n_splits=folds)\n",
    "\n",
    "scorer_fn = make_scorer(f1_score)\n",
    "\n",
    "randomcv = GridSearchCV(estimator=KNN_Classifier,\n",
    "                              param_grid = params_grid,\n",
    "                              scoring=scorer_fn,\n",
    "                              cv=kfoldcv\n",
    "                              )\n",
    "\n",
    "\n",
    "model = randomcv.fit(x_train,y_train)\n",
    "\n",
    "print(\"Folds:\",folds, \"Hiperparametros:\",randomcv.best_params_, \"F1-Score:\",randomcv.best_score_)"
   ]
  },
  {
   "cell_type": "markdown",
   "metadata": {},
   "source": [
    "Habiendo optimizado los hiperparámetros que se consideraron más relevantes, se obtuvo que el mejor modelo KNN utiliza distancia euclídea y 5 vecinos, obteniéndose un F1-Score de 0,812. Esto no es una mejora sobre el modelo de árbol entrenado en el checkpoint previo. "
   ]
  },
  {
   "cell_type": "markdown",
   "metadata": {},
   "source": [
    "## Predicción del test armado a partir de hotels_train"
   ]
  },
  {
   "cell_type": "code",
   "execution_count": 58,
   "metadata": {},
   "outputs": [],
   "source": [
    "model = KNeighborsClassifier()\n",
    "model.set_params(metric='euclidean', n_neighbors=5, weights='distance')\n",
    "model.fit(x_train, y_train);"
   ]
  },
  {
   "cell_type": "code",
   "execution_count": 59,
   "metadata": {},
   "outputs": [
    {
     "name": "stdout",
     "output_type": "stream",
     "text": [
      "Fracción de aciertos: 0.8117046283537327\n"
     ]
    }
   ],
   "source": [
    "y_pred=model.predict(x_test)\n",
    "y_pred\n",
    "\n",
    "#Accuracy test\n",
    "print (\"Fracción de aciertos:\", accuracy_score(y_test, y_pred))"
   ]
  },
  {
   "cell_type": "code",
   "execution_count": 60,
   "metadata": {},
   "outputs": [
    {
     "data": {
      "image/png": "[encoded data removed]",
      "text/plain": [
       "<Figure size 640x480 with 2 Axes>"
      ]
     },
     "metadata": {},
     "output_type": "display_data"
    }
   ],
   "source": [
    "tabla=confusion_matrix(y_test, y_pred)\n",
    "\n",
    "sns.heatmap(tabla,cmap='GnBu',annot=True,fmt='g')\n",
    "plt.xlabel('Predicted')\n",
    "plt.ylabel('True');"
   ]
  },
  {
   "cell_type": "code",
   "execution_count": 61,
   "metadata": {},
   "outputs": [
    {
     "name": "stdout",
     "output_type": "stream",
     "text": [
      "Accuracy: 0.8117046283537327\n",
      "Recall: 0.8382543802725503\n",
      "Precision: 0.7957800708455259\n",
      "f1 score: 0.816465197124121\n",
      "              precision    recall  f1-score   support\n",
      "\n",
      "         0.0       0.83      0.79      0.81      6173\n",
      "         1.0       0.80      0.84      0.82      6164\n",
      "\n",
      "    accuracy                           0.81     12337\n",
      "   macro avg       0.81      0.81      0.81     12337\n",
      "weighted avg       0.81      0.81      0.81     12337\n",
      "\n"
     ]
    }
   ],
   "source": [
    "#Calculo las métricas en el conjunto de evaluación\n",
    "accuracy=accuracy_score(y_test,y_pred)\n",
    "recall=recall_score(y_test,y_pred)\n",
    "f1=f1_score(y_test,y_pred)\n",
    "precision=precision_score(y_test,y_pred)\n",
    "\n",
    "print(\"Accuracy: \"+str(accuracy))\n",
    "print(\"Recall: \"+str(recall))\n",
    "print(\"Precision: \"+str(precision))\n",
    "print(\"f1 score: \"+str(f1))\n",
    "\n",
    "print(classification_report(y_test,y_pred))"
   ]
  },
  {
   "cell_type": "markdown",
   "metadata": {},
   "source": [
    "## Predicción de hotels_test\n",
    "\n",
    "Se modifica el dataset de test de manera similar al de train, para que el modelo obtenido pueda ser aplicado."
   ]
  },
  {
   "cell_type": "code",
   "execution_count": 64,
   "metadata": {},
   "outputs": [],
   "source": [
    "test_df = pd.read_csv('hotels_test.csv')\n",
    "\n",
    "test_df_mod = test_df.copy()\n",
    "\n",
    "# renombrar columna del dataframe de reserved_room_type a room_type_match\n",
    "test_df_mod = test_df_mod.rename(columns={'reserved_room_type': 'room_type_match'})\n",
    "\n",
    "test_df_mod.loc[test_df_mod['room_type_match'] == test_df_mod['assigned_room_type'], 'room_type_match'] = True\n",
    "test_df_mod.loc[test_df_mod['room_type_match'] != test_df_mod['assigned_room_type'], 'room_type_match'] = False\n",
    "test_df_mod['room_type_match'] = test_df_mod['room_type_match'].astype(bool)\n",
    "\n",
    "test_df_mod['agent'] = test_df_mod['agent'].astype(str)\n",
    "\n",
    "id_backup = test_df_mod[['id']].copy()\n",
    "\n",
    "test_df_mod = test_df_mod.drop(['arrival_date_year', 'arrival_date_day_of_month', 'stays_in_weekend_nights', 'stays_in_week_nights', 'children', 'company', 'adr', 'id'], axis=1)\n",
    "test_df_mod = test_df_mod.drop(['reservation_status_date'], axis='columns')\n",
    "\n",
    "test_df_mod = pd.get_dummies(test_df_mod, columns=[\"hotel\", \"arrival_date_month\", \"meal\", \"country\", \"market_segment\", \"distribution_channel\", \"assigned_room_type\", \"deposit_type\", \"customer_type\", \"agent\" ], drop_first=True)\n",
    "\n",
    "#Se crean las columnas que están en el df para entrenar pero no en el df a precedir\n",
    "for col in df_x.columns:\n",
    "    if col not in test_df_mod.columns:\n",
    "        test_df_mod[col] = False\n",
    "\n",
    "#Se eliminan las columnas que están en el df para predecir pero no en el df para entrenar\n",
    "for col in test_df_mod.columns:\n",
    "    if col not in df_x.columns:\n",
    "        test_df_mod = test_df_mod.drop(columns=[col])\n",
    "\n",
    "test_df_mod = test_df_mod.reindex(sorted(test_df_mod.columns), axis=1)"
   ]
  },
  {
   "cell_type": "code",
   "execution_count": 68,
   "metadata": {},
   "outputs": [],
   "source": [
    "#Se realiza una predicción sobre test utilizando el modelo\n",
    "y_pred = model.predict(test_df_mod)\n",
    "\n",
    "predictions = pd.DataFrame()\n",
    "\n",
    "predictions['id'] = id_backup['id'].values\n",
    "predictions['is_canceled'] = y_pred.astype(int)\n",
    "\n",
    "predictions.to_csv('entrega.csv', index=False)"
   ]
  }
 ],
 "metadata": {
  "kernelspec": {
   "display_name": "Python 3",
   "language": "python",
   "name": "python3"
  },
  "language_info": {
   "codemirror_mode": {
    "name": "ipython",
    "version": 3
   },
   "file_extension": ".py",
   "mimetype": "text/x-python",
   "name": "python",
   "nbconvert_exporter": "python",
   "pygments_lexer": "ipython3",
   "version": "3.11.5"
  }
 },
 "nbformat": 4,
 "nbformat_minor": 2
}
